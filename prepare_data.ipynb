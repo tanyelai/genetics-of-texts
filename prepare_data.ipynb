{
 "cells": [
  {
   "cell_type": "code",
   "execution_count": 249,
   "metadata": {},
   "outputs": [],
   "source": [
    "import numpy as np\n",
    "import pandas as pd\n",
    "import matplotlib.pyplot as plt\n",
    "import re\n",
    "import string\n",
    "\n",
    "# Import stopwords with nltk.\n",
    "from nltk.corpus import stopwords\n",
    "\n",
    "#from nostril.nonsense_detector import nonsense"
   ]
  },
  {
   "cell_type": "code",
   "execution_count": 251,
   "metadata": {},
   "outputs": [],
   "source": [
    "#data = pd.read_csv('/Users/toygar/Desktop/4-2 YTU/Yapay zeka/code/hw1/data/stweet/test.csv')\n",
    "#data = pd.read_csv('/Users/toygar/Desktop/4-2 YTU/Yapay zeka/code/hw1/data/food/test.csv')\n",
    "#data = pd.read_csv('/Users/toygar/Desktop/4-2 YTU/Yapay zeka/code/hw1/data/sarcasm/test.csv')\n",
    "\n",
    "data = pd.read_csv('/Users/toygar/Desktop/4-2 YTU/Yapay zeka/code/hw1/data/toxic/test.csv')\n"
   ]
  },
  {
   "cell_type": "code",
   "execution_count": 252,
   "metadata": {},
   "outputs": [
    {
     "data": {
      "text/plain": [
       "(63978, 2)"
      ]
     },
     "execution_count": 252,
     "metadata": {},
     "output_type": "execute_result"
    }
   ],
   "source": [
    "data.shape"
   ]
  },
  {
   "cell_type": "code",
   "execution_count": 253,
   "metadata": {},
   "outputs": [],
   "source": [
    "contractions_dict = { \n",
    "\"ain't\": \"am not / are not / is not / has not / have not\",\n",
    "\"aren't\": \"are not / am not\",\n",
    "\"can't\": \"cannot\",\n",
    "\"can't've\": \"cannot have\",\n",
    "\"'cause\": \"because\",\n",
    "\"could've\": \"could have\",\n",
    "\"couldn't\": \"could not\",\n",
    "\"couldn't've\": \"could not have\",\n",
    "\"didn't\": \"did not\",\n",
    "\"doesn't\": \"does not\",\n",
    "\"don't\": \"do not\",\n",
    "\"hadn't\": \"had not\",\n",
    "\"hadn't've\": \"had not have\",\n",
    "\"hasn't\": \"has not\",\n",
    "\"haven't\": \"have not\",\n",
    "\"he'd\": \"he had / he would\",\n",
    "\"he'd've\": \"he would have\",\n",
    "\"he'll\": \"he shall / he will\",\n",
    "\"he'll've\": \"he shall have / he will have\",\n",
    "\"he's\": \"he has / he is\",\n",
    "\"how'd\": \"how did\",\n",
    "\"how'd'y\": \"how do you\",\n",
    "\"how'll\": \"how will\",\n",
    "\"how's\": \"how has / how is / how does\",\n",
    "\"I'd\": \"I had / I would\",\n",
    "\"I'd've\": \"I would have\",\n",
    "\"I'll\": \"I shall / I will\",\n",
    "\"I'll've\": \"I shall have / I will have\",\n",
    "\"I'm\": \"I am\",\n",
    "\"I've\": \"I have\",\n",
    "\"isn't\": \"is not\",\n",
    "\"it'd\": \"it had / it would\",\n",
    "\"it'd've\": \"it would have\",\n",
    "\"it'll\": \"it shall / it will\",\n",
    "\"it'll've\": \"it shall have / it will have\",\n",
    "\"it's\": \"it has / it is\",\n",
    "\"let's\": \"let us\",\n",
    "\"ma'am\": \"madam\",\n",
    "\"mayn't\": \"may not\",\n",
    "\"might've\": \"might have\",\n",
    "\"mightn't\": \"might not\",\n",
    "\"mightn't've\": \"might not have\",\n",
    "\"must've\": \"must have\",\n",
    "\"mustn't\": \"must not\",\n",
    "\"mustn't've\": \"must not have\",\n",
    "\"needn't\": \"need not\",\n",
    "\"needn't've\": \"need not have\",\n",
    "\"o'clock\": \"of the clock\",\n",
    "\"oughtn't\": \"ought not\",\n",
    "\"oughtn't've\": \"ought not have\",\n",
    "\"shan't\": \"shall not\",\n",
    "\"sha'n't\": \"shall not\",\n",
    "\"shan't've\": \"shall not have\",\n",
    "\"she'd\": \"she had / she would\",\n",
    "\"she'd've\": \"she would have\",\n",
    "\"she'll\": \"she shall / she will\",\n",
    "\"she'll've\": \"she shall have / she will have\",\n",
    "\"she's\": \"she has / she is\",\n",
    "\"should've\": \"should have\",\n",
    "\"shouldn't\": \"should not\",\n",
    "\"shouldn't've\": \"should not have\",\n",
    "\"so've\": \"so have\",\n",
    "\"so's\": \"so as / so is\",\n",
    "\"that'd\": \"that would / that had\",\n",
    "\"that'd've\": \"that would have\",\n",
    "\"that's\": \"that has / that is\",\n",
    "\"there'd\": \"there had / there would\",\n",
    "\"there'd've\": \"there would have\",\n",
    "\"there's\": \"there has / there is\",\n",
    "\"they'd\": \"they had / they would\",\n",
    "\"they'd've\": \"they would have\",\n",
    "\"they'll\": \"they shall / they will\",\n",
    "\"they'll've\": \"they shall have / they will have\",\n",
    "\"they're\": \"they are\",\n",
    "\"they've\": \"they have\",\n",
    "\"to've\": \"to have\",\n",
    "\"wasn't\": \"was not\",\n",
    "\"we'd\": \"we had / we would\",\n",
    "\"we'd've\": \"we would have\",\n",
    "\"we'll\": \"we will\",\n",
    "\"we'll've\": \"we will have\",\n",
    "\"we're\": \"we are\",\n",
    "\"we've\": \"we have\",\n",
    "\"weren't\": \"were not\",\n",
    "\"what'll\": \"what shall / what will\",\n",
    "\"what'll've\": \"what shall have / what will have\",\n",
    "\"what're\": \"what are\",\n",
    "\"what's\": \"what has / what is\",\n",
    "\"what've\": \"what have\",\n",
    "\"when's\": \"when has / when is\",\n",
    "\"when've\": \"when have\",\n",
    "\"where'd\": \"where did\",\n",
    "\"where's\": \"where has / where is\",\n",
    "\"where've\": \"where have\",\n",
    "\"who'll\": \"who shall / who will\",\n",
    "\"who'll've\": \"who shall have / who will have\",\n",
    "\"who's\": \"who has / who is\",\n",
    "\"who've\": \"who have\",\n",
    "\"why's\": \"why has / why is\",\n",
    "\"why've\": \"why have\",\n",
    "\"will've\": \"will have\",\n",
    "\"won't\": \"will not\",\n",
    "\"won't've\": \"will not have\",\n",
    "\"would've\": \"would have\",\n",
    "\"wouldn't\": \"would not\",\n",
    "\"wouldn't've\": \"would not have\",\n",
    "\"y'all\": \"you all\",\n",
    "\"y'all'd\": \"you all would\",\n",
    "\"y'all'd've\": \"you all would have\",\n",
    "\"y'all're\": \"you all are\",\n",
    "\"y'all've\": \"you all have\",\n",
    "\"you'd\": \"you had / you would\",\n",
    "\"you'd've\": \"you would have\",\n",
    "\"you'll\": \"you shall / you will\",\n",
    "\"you'll've\": \"you shall have / you will have\",\n",
    "\"you're\": \"you are\",\n",
    "\"you've\": \"you have\"\n",
    "}\n",
    "\n",
    "contractions_re = re.compile('(%s)' % '|'.join(contractions_dict.keys()))\n",
    "def expand_contractions(s, contractions_dict=contractions_dict):\n",
    "     def replace(match):\n",
    "        return contractions_dict[match.group(0)]\n",
    "     return contractions_re.sub(replace, s)\n",
    "data[\"text\"] = [expand_contractions(i) for i in data[\"text\"]]"
   ]
  },
  {
   "cell_type": "code",
   "execution_count": 254,
   "metadata": {},
   "outputs": [
    {
     "data": {
      "text/html": [
       "<div>\n",
       "<style scoped>\n",
       "    .dataframe tbody tr th:only-of-type {\n",
       "        vertical-align: middle;\n",
       "    }\n",
       "\n",
       "    .dataframe tbody tr th {\n",
       "        vertical-align: top;\n",
       "    }\n",
       "\n",
       "    .dataframe thead th {\n",
       "        text-align: right;\n",
       "    }\n",
       "</style>\n",
       "<table border=\"1\" class=\"dataframe\">\n",
       "  <thead>\n",
       "    <tr style=\"text-align: right;\">\n",
       "      <th></th>\n",
       "      <th>text</th>\n",
       "      <th>Y</th>\n",
       "    </tr>\n",
       "  </thead>\n",
       "  <tbody>\n",
       "    <tr>\n",
       "      <th>0</th>\n",
       "      <td>Thank you for understanding. I think very highly of you and would not revert without discussion.</td>\n",
       "      <td>0</td>\n",
       "    </tr>\n",
       "    <tr>\n",
       "      <th>1</th>\n",
       "      <td>:Dear god this site is horrible.</td>\n",
       "      <td>0</td>\n",
       "    </tr>\n",
       "    <tr>\n",
       "      <th>2</th>\n",
       "      <td>\"::: Somebody will invariably try to add Religion?  Really??  You mean, the way people have invariably kept adding \"\"Religion\"\" to the Samuel Beckett infobox?  And why do you bother bringing up the long-dead completely non-existent \"\"Influences\"\" issue?  You're just flailing, making up crap on the fly. \\n ::: For comparison, the only explicit acknowledgement in the entire Amos Oz article that he is personally Jewish is in the categories!    \\n\\n \"</td>\n",
       "      <td>0</td>\n",
       "    </tr>\n",
       "    <tr>\n",
       "      <th>3</th>\n",
       "      <td>\" \\n\\n It says it right there that it IS a type. The \"\"Type\"\" of institution is needed in this case because there are three levels of SUNY schools: \\n -University Centers and Doctoral Granting Institutions \\n -State Colleges \\n -Community Colleges. \\n\\n It is needed in this case to clarify that UB is a SUNY Center. It says it even in Binghamton University, University at Albany, State University of New York, and Stony Brook University. Stop trying to say it has / it is not because I am totally right in this case.\"</td>\n",
       "      <td>0</td>\n",
       "    </tr>\n",
       "    <tr>\n",
       "      <th>4</th>\n",
       "      <td>\" \\n\\n == Before adding a new product to the list, make sure it has / it is relevant == \\n\\n Before adding a new product to the list, make sure it has a wikipedia entry already, \"\"proving\"\" it has / it is relevance and giving the reader the possibility to read more about it. \\n Otherwise it could be subject to deletion. See this article's revision history.\"</td>\n",
       "      <td>0</td>\n",
       "    </tr>\n",
       "    <tr>\n",
       "      <th>...</th>\n",
       "      <td>...</td>\n",
       "      <td>...</td>\n",
       "    </tr>\n",
       "    <tr>\n",
       "      <th>63973</th>\n",
       "      <td>:Jerome, I see you never got around to this…! I’m not surprised: I looked for an example of the ‘’in nomine’’ plainsong notaion and couldn’t find one online - to my astonishment too.  \\n :But maybe you could clear up a question for me: is the cantus firmus of the English ‘’in nomines’’ the plainchant (in the alto part), or one of Taverner’s other three parts? This is not clear to me in the article. If the ‘’in nomines’’ are based on the plainchant, then where does Taverner come into it? Your expertise would be most appreciated, and maybe the article requires some explanation to this effect.</td>\n",
       "      <td>0</td>\n",
       "    </tr>\n",
       "    <tr>\n",
       "      <th>63974</th>\n",
       "      <td>==Lucky bastard== \\n http://wikimediafoundation.org/wiki/Press_releases/English_Wikipedia_Announces_Thousandth_Featured_Article \\n\\n Heh you are famous now. I kida envy that. Congrats.</td>\n",
       "      <td>0</td>\n",
       "    </tr>\n",
       "    <tr>\n",
       "      <th>63975</th>\n",
       "      <td>==shame on you all!!!== \\n\\n You want to speak about gays and not about romanians...</td>\n",
       "      <td>0</td>\n",
       "    </tr>\n",
       "    <tr>\n",
       "      <th>63976</th>\n",
       "      <td>MEL GIBSON IS A NAZI BITCH WHO MAKES SHITTY MOVIES. HE HAS SO MUCH BUTTSEX THAT HIS ASSHOLE IS NOW BIG ENOUGH TO BE CONSIDERED A COUNTRY.</td>\n",
       "      <td>1</td>\n",
       "    </tr>\n",
       "    <tr>\n",
       "      <th>63977</th>\n",
       "      <td>\" \\n\\n == Unicorn lair discovery == \\n\\n Supposedly, a 'unicorn lair' has been discovered in Pyongyang, North Korea. The lair is supposedly associated with King Dongmyeong of Goguryeo, who supposedly rode a unicorn.  It should be added, but i cannot quite find where to insert it. \"</td>\n",
       "      <td>0</td>\n",
       "    </tr>\n",
       "  </tbody>\n",
       "</table>\n",
       "<p>63978 rows × 2 columns</p>\n",
       "</div>"
      ],
      "text/plain": [
       "                                                                                                                                                                                                                                                                                                                                                                                                                                                                                                                                                                                                                        text  \\\n",
       "0                                                                                                                                                                                                                                                                                                                                                                                                                                                                                                                           Thank you for understanding. I think very highly of you and would not revert without discussion.   \n",
       "1                                                                                                                                                                                                                                                                                                                                                                                                                                                                                                                                                                                           :Dear god this site is horrible.   \n",
       "2                                                                                                                                                        \"::: Somebody will invariably try to add Religion?  Really??  You mean, the way people have invariably kept adding \"\"Religion\"\" to the Samuel Beckett infobox?  And why do you bother bringing up the long-dead completely non-existent \"\"Influences\"\" issue?  You're just flailing, making up crap on the fly. \\n ::: For comparison, the only explicit acknowledgement in the entire Amos Oz article that he is personally Jewish is in the categories!    \\n\\n \"   \n",
       "3                                                                                     \" \\n\\n It says it right there that it IS a type. The \"\"Type\"\" of institution is needed in this case because there are three levels of SUNY schools: \\n -University Centers and Doctoral Granting Institutions \\n -State Colleges \\n -Community Colleges. \\n\\n It is needed in this case to clarify that UB is a SUNY Center. It says it even in Binghamton University, University at Albany, State University of New York, and Stony Brook University. Stop trying to say it has / it is not because I am totally right in this case.\"   \n",
       "4                                                                                                                                                                                                                                                    \" \\n\\n == Before adding a new product to the list, make sure it has / it is relevant == \\n\\n Before adding a new product to the list, make sure it has a wikipedia entry already, \"\"proving\"\" it has / it is relevance and giving the reader the possibility to read more about it. \\n Otherwise it could be subject to deletion. See this article's revision history.\"   \n",
       "...                                                                                                                                                                                                                                                                                                                                                                                                                                                                                                                                                                                                                      ...   \n",
       "63973  :Jerome, I see you never got around to this…! I’m not surprised: I looked for an example of the ‘’in nomine’’ plainsong notaion and couldn’t find one online - to my astonishment too.  \\n :But maybe you could clear up a question for me: is the cantus firmus of the English ‘’in nomines’’ the plainchant (in the alto part), or one of Taverner’s other three parts? This is not clear to me in the article. If the ‘’in nomines’’ are based on the plainchant, then where does Taverner come into it? Your expertise would be most appreciated, and maybe the article requires some explanation to this effect.   \n",
       "63974                                                                                                                                                                                                                                                                                                                                                                                                                               ==Lucky bastard== \\n http://wikimediafoundation.org/wiki/Press_releases/English_Wikipedia_Announces_Thousandth_Featured_Article \\n\\n Heh you are famous now. I kida envy that. Congrats.   \n",
       "63975                                                                                                                                                                                                                                                                                                                                                                                                                                                                                                                                   ==shame on you all!!!== \\n\\n You want to speak about gays and not about romanians...   \n",
       "63976                                                                                                                                                                                                                                                                                                                                                                                                                                                                              MEL GIBSON IS A NAZI BITCH WHO MAKES SHITTY MOVIES. HE HAS SO MUCH BUTTSEX THAT HIS ASSHOLE IS NOW BIG ENOUGH TO BE CONSIDERED A COUNTRY.   \n",
       "63977                                                                                                                                                                                                                                                                                                                             \" \\n\\n == Unicorn lair discovery == \\n\\n Supposedly, a 'unicorn lair' has been discovered in Pyongyang, North Korea. The lair is supposedly associated with King Dongmyeong of Goguryeo, who supposedly rode a unicorn.  It should be added, but i cannot quite find where to insert it. \"   \n",
       "\n",
       "       Y  \n",
       "0      0  \n",
       "1      0  \n",
       "2      0  \n",
       "3      0  \n",
       "4      0  \n",
       "...   ..  \n",
       "63973  0  \n",
       "63974  0  \n",
       "63975  0  \n",
       "63976  1  \n",
       "63977  0  \n",
       "\n",
       "[63978 rows x 2 columns]"
      ]
     },
     "execution_count": 254,
     "metadata": {},
     "output_type": "execute_result"
    }
   ],
   "source": [
    "data"
   ]
  },
  {
   "cell_type": "code",
   "execution_count": 255,
   "metadata": {},
   "outputs": [],
   "source": [
    "def transform_remove_URL(text):\n",
    "    url = re.compile(r'https?://\\S+|www\\.\\S+')\n",
    "    return url.sub(r'', text)\n",
    "\n",
    "\n",
    "def transform_remove_html(text):\n",
    "    html = re.compile(r'<.*?>|&([a-z0-9]+|#[0-9]{1,6}|#x[0-9a-f]{1,6});')\n",
    "    return re.sub(html, '', text)\n",
    "\n",
    "\n",
    "def transform_remove_usernames(text):\n",
    "    uh = re.compile(r'([@][A-Za-z0-9_]+)|(\\w+:\\/\\/\\S+)')\n",
    "    return uh.sub(r'', text)\n",
    "\n",
    "\n",
    "def transform_remove_hashtags(text):\n",
    "    return re.sub(r'#\\w+', ' ', text)\n",
    "\n",
    "\n",
    "def transform_remove_digits(text):\n",
    "    return re.sub(r'\\d+', ' ', text)\n",
    "\n",
    "\n",
    "def transform_remove_emoji(text):\n",
    "    emoji_pattern = re.compile(\"[\"\n",
    "                               u\"\\U0001F600-\\U0001F64F\"  # emoticons\n",
    "                               u\"\\U0001F300-\\U0001F5FF\"  # symbols & pictographs\n",
    "                               u\"\\U0001F680-\\U0001F6FF\"  # transport & map symbols\n",
    "                               u\"\\U0001F1E0-\\U0001F1FF\"  # flags (iOS)\n",
    "                               u\"\\U00002500-\\U00002BEF\"  # chinese char\n",
    "                               u\"\\U00002702-\\U000027B0\"\n",
    "                               u\"\\U00002702-\\U000027B0\"\n",
    "                               u\"\\U000024C2-\\U0001F251\"\n",
    "                               u\"\\U0001f926-\\U0001f937\"\n",
    "                               u\"\\U00010000-\\U0010ffff\"\n",
    "                               u\"\\u2640-\\u2642\"\n",
    "                               u\"\\u2600-\\u2B55\"\n",
    "                               u\"\\u200d\"\n",
    "                               u\"\\u23cf\"\n",
    "                               u\"\\u23e9\"\n",
    "                               u\"\\u231a\"\n",
    "                               u\"\\ufe0f\"  # dingbats\n",
    "                               u\"\\u3030\"\n",
    "                               \"]+\", re.UNICODE)\n",
    "    return emoji_pattern.sub(r' ', text)\n",
    "\n",
    "\n",
    "def transform_lowercase(text):\n",
    "    return text.lower()\n",
    "\n",
    "\n",
    "def transform_fix_i(text):\n",
    "    fix = re.compile(r'i̇')\n",
    "    return fix.sub(r'i', text)\n",
    "\n",
    "\n",
    "def transform_fix_whitespace(text):\n",
    "    return ' '.join(text.split())\n",
    "\n",
    "\n",
    "def transform_remove_punct(text):\n",
    "    table = str.maketrans('', '', string.punctuation)\n",
    "    return text.translate(table)\n",
    "\n",
    "\n",
    "def apply_transforms(df):\n",
    "    for t in transforms:\n",
    "        df['text'] = df['text'].apply(lambda x: t(x))\n",
    "    return df\n",
    "        \n",
    "transforms = [\n",
    "  transform_remove_URL,\n",
    "  transform_remove_html,\n",
    "  transform_remove_usernames,\n",
    "  transform_remove_hashtags,\n",
    "  transform_remove_emoji,\n",
    "  transform_remove_digits,\n",
    "  transform_lowercase,\n",
    "  transform_fix_i,\n",
    "  transform_fix_whitespace,\n",
    "  transform_remove_punct\n",
    "]"
   ]
  },
  {
   "cell_type": "code",
   "execution_count": 256,
   "metadata": {},
   "outputs": [
    {
     "data": {
      "text/html": [
       "<div>\n",
       "<style scoped>\n",
       "    .dataframe tbody tr th:only-of-type {\n",
       "        vertical-align: middle;\n",
       "    }\n",
       "\n",
       "    .dataframe tbody tr th {\n",
       "        vertical-align: top;\n",
       "    }\n",
       "\n",
       "    .dataframe thead th {\n",
       "        text-align: right;\n",
       "    }\n",
       "</style>\n",
       "<table border=\"1\" class=\"dataframe\">\n",
       "  <thead>\n",
       "    <tr style=\"text-align: right;\">\n",
       "      <th></th>\n",
       "      <th>text</th>\n",
       "      <th>Y</th>\n",
       "    </tr>\n",
       "  </thead>\n",
       "  <tbody>\n",
       "    <tr>\n",
       "      <th>0</th>\n",
       "      <td>Thank you for understanding. I think very highly of you and would not revert without discussion.</td>\n",
       "      <td>0</td>\n",
       "    </tr>\n",
       "    <tr>\n",
       "      <th>1</th>\n",
       "      <td>:Dear god this site is horrible.</td>\n",
       "      <td>0</td>\n",
       "    </tr>\n",
       "    <tr>\n",
       "      <th>2</th>\n",
       "      <td>\"::: Somebody will invariably try to add Religion?  Really??  You mean, the way people have invariably kept adding \"\"Religion\"\" to the Samuel Beckett infobox?  And why do you bother bringing up the long-dead completely non-existent \"\"Influences\"\" issue?  You're just flailing, making up crap on the fly. \\n ::: For comparison, the only explicit acknowledgement in the entire Amos Oz article that he is personally Jewish is in the categories!    \\n\\n \"</td>\n",
       "      <td>0</td>\n",
       "    </tr>\n",
       "    <tr>\n",
       "      <th>3</th>\n",
       "      <td>\" \\n\\n It says it right there that it IS a type. The \"\"Type\"\" of institution is needed in this case because there are three levels of SUNY schools: \\n -University Centers and Doctoral Granting Institutions \\n -State Colleges \\n -Community Colleges. \\n\\n It is needed in this case to clarify that UB is a SUNY Center. It says it even in Binghamton University, University at Albany, State University of New York, and Stony Brook University. Stop trying to say it has / it is not because I am totally right in this case.\"</td>\n",
       "      <td>0</td>\n",
       "    </tr>\n",
       "    <tr>\n",
       "      <th>4</th>\n",
       "      <td>\" \\n\\n == Before adding a new product to the list, make sure it has / it is relevant == \\n\\n Before adding a new product to the list, make sure it has a wikipedia entry already, \"\"proving\"\" it has / it is relevance and giving the reader the possibility to read more about it. \\n Otherwise it could be subject to deletion. See this article's revision history.\"</td>\n",
       "      <td>0</td>\n",
       "    </tr>\n",
       "    <tr>\n",
       "      <th>...</th>\n",
       "      <td>...</td>\n",
       "      <td>...</td>\n",
       "    </tr>\n",
       "    <tr>\n",
       "      <th>63973</th>\n",
       "      <td>:Jerome, I see you never got around to this…! I’m not surprised: I looked for an example of the ‘’in nomine’’ plainsong notaion and couldn’t find one online - to my astonishment too.  \\n :But maybe you could clear up a question for me: is the cantus firmus of the English ‘’in nomines’’ the plainchant (in the alto part), or one of Taverner’s other three parts? This is not clear to me in the article. If the ‘’in nomines’’ are based on the plainchant, then where does Taverner come into it? Your expertise would be most appreciated, and maybe the article requires some explanation to this effect.</td>\n",
       "      <td>0</td>\n",
       "    </tr>\n",
       "    <tr>\n",
       "      <th>63974</th>\n",
       "      <td>==Lucky bastard== \\n http://wikimediafoundation.org/wiki/Press_releases/English_Wikipedia_Announces_Thousandth_Featured_Article \\n\\n Heh you are famous now. I kida envy that. Congrats.</td>\n",
       "      <td>0</td>\n",
       "    </tr>\n",
       "    <tr>\n",
       "      <th>63975</th>\n",
       "      <td>==shame on you all!!!== \\n\\n You want to speak about gays and not about romanians...</td>\n",
       "      <td>0</td>\n",
       "    </tr>\n",
       "    <tr>\n",
       "      <th>63976</th>\n",
       "      <td>MEL GIBSON IS A NAZI BITCH WHO MAKES SHITTY MOVIES. HE HAS SO MUCH BUTTSEX THAT HIS ASSHOLE IS NOW BIG ENOUGH TO BE CONSIDERED A COUNTRY.</td>\n",
       "      <td>1</td>\n",
       "    </tr>\n",
       "    <tr>\n",
       "      <th>63977</th>\n",
       "      <td>\" \\n\\n == Unicorn lair discovery == \\n\\n Supposedly, a 'unicorn lair' has been discovered in Pyongyang, North Korea. The lair is supposedly associated with King Dongmyeong of Goguryeo, who supposedly rode a unicorn.  It should be added, but i cannot quite find where to insert it. \"</td>\n",
       "      <td>0</td>\n",
       "    </tr>\n",
       "  </tbody>\n",
       "</table>\n",
       "<p>63978 rows × 2 columns</p>\n",
       "</div>"
      ],
      "text/plain": [
       "                                                                                                                                                                                                                                                                                                                                                                                                                                                                                                                                                                                                                        text  \\\n",
       "0                                                                                                                                                                                                                                                                                                                                                                                                                                                                                                                           Thank you for understanding. I think very highly of you and would not revert without discussion.   \n",
       "1                                                                                                                                                                                                                                                                                                                                                                                                                                                                                                                                                                                           :Dear god this site is horrible.   \n",
       "2                                                                                                                                                        \"::: Somebody will invariably try to add Religion?  Really??  You mean, the way people have invariably kept adding \"\"Religion\"\" to the Samuel Beckett infobox?  And why do you bother bringing up the long-dead completely non-existent \"\"Influences\"\" issue?  You're just flailing, making up crap on the fly. \\n ::: For comparison, the only explicit acknowledgement in the entire Amos Oz article that he is personally Jewish is in the categories!    \\n\\n \"   \n",
       "3                                                                                     \" \\n\\n It says it right there that it IS a type. The \"\"Type\"\" of institution is needed in this case because there are three levels of SUNY schools: \\n -University Centers and Doctoral Granting Institutions \\n -State Colleges \\n -Community Colleges. \\n\\n It is needed in this case to clarify that UB is a SUNY Center. It says it even in Binghamton University, University at Albany, State University of New York, and Stony Brook University. Stop trying to say it has / it is not because I am totally right in this case.\"   \n",
       "4                                                                                                                                                                                                                                                    \" \\n\\n == Before adding a new product to the list, make sure it has / it is relevant == \\n\\n Before adding a new product to the list, make sure it has a wikipedia entry already, \"\"proving\"\" it has / it is relevance and giving the reader the possibility to read more about it. \\n Otherwise it could be subject to deletion. See this article's revision history.\"   \n",
       "...                                                                                                                                                                                                                                                                                                                                                                                                                                                                                                                                                                                                                      ...   \n",
       "63973  :Jerome, I see you never got around to this…! I’m not surprised: I looked for an example of the ‘’in nomine’’ plainsong notaion and couldn’t find one online - to my astonishment too.  \\n :But maybe you could clear up a question for me: is the cantus firmus of the English ‘’in nomines’’ the plainchant (in the alto part), or one of Taverner’s other three parts? This is not clear to me in the article. If the ‘’in nomines’’ are based on the plainchant, then where does Taverner come into it? Your expertise would be most appreciated, and maybe the article requires some explanation to this effect.   \n",
       "63974                                                                                                                                                                                                                                                                                                                                                                                                                               ==Lucky bastard== \\n http://wikimediafoundation.org/wiki/Press_releases/English_Wikipedia_Announces_Thousandth_Featured_Article \\n\\n Heh you are famous now. I kida envy that. Congrats.   \n",
       "63975                                                                                                                                                                                                                                                                                                                                                                                                                                                                                                                                   ==shame on you all!!!== \\n\\n You want to speak about gays and not about romanians...   \n",
       "63976                                                                                                                                                                                                                                                                                                                                                                                                                                                                              MEL GIBSON IS A NAZI BITCH WHO MAKES SHITTY MOVIES. HE HAS SO MUCH BUTTSEX THAT HIS ASSHOLE IS NOW BIG ENOUGH TO BE CONSIDERED A COUNTRY.   \n",
       "63977                                                                                                                                                                                                                                                                                                                             \" \\n\\n == Unicorn lair discovery == \\n\\n Supposedly, a 'unicorn lair' has been discovered in Pyongyang, North Korea. The lair is supposedly associated with King Dongmyeong of Goguryeo, who supposedly rode a unicorn.  It should be added, but i cannot quite find where to insert it. \"   \n",
       "\n",
       "       Y  \n",
       "0      0  \n",
       "1      0  \n",
       "2      0  \n",
       "3      0  \n",
       "4      0  \n",
       "...   ..  \n",
       "63973  0  \n",
       "63974  0  \n",
       "63975  0  \n",
       "63976  1  \n",
       "63977  0  \n",
       "\n",
       "[63978 rows x 2 columns]"
      ]
     },
     "execution_count": 256,
     "metadata": {},
     "output_type": "execute_result"
    }
   ],
   "source": [
    "data"
   ]
  },
  {
   "cell_type": "code",
   "execution_count": null,
   "metadata": {},
   "outputs": [],
   "source": []
  },
  {
   "cell_type": "code",
   "execution_count": 274,
   "metadata": {},
   "outputs": [
    {
     "name": "stderr",
     "output_type": "stream",
     "text": [
      "/var/folders/_6/1vngq5t10zx8fj0t4xknpx0c0000gn/T/ipykernel_11889/2198798257.py:8: SettingWithCopyWarning: \n",
      "A value is trying to be set on a copy of a slice from a DataFrame\n",
      "\n",
      "See the caveats in the documentation: https://pandas.pydata.org/pandas-docs/stable/user_guide/indexing.html#returning-a-view-versus-a-copy\n",
      "  new_df.dropna(inplace=True)\n"
     ]
    }
   ],
   "source": [
    "data = apply_transforms(data)\n",
    "\n",
    "data['text'] = data['text'].apply(lambda x: ' '.join([word for word in x.split() if len(word)>2])) # 2 karakter veya daha az olan kelimeleri sil\n",
    "data['text'] = data['text'].apply(lambda x: ' '.join([word for word in x.split() if len(word)<25])) # 25 karakterden daha fazla olan kelimeleri sil\n",
    "#data['text'] = data['text'].apply(lambda x: ' '.join([word for word in x.split() if not len(word)>=6 and nonsense(word)])) # Anlamsız kelimeleri çıkar\n",
    "word_count = data['text'].apply(lambda x: len(str(x).split(\" \"))) # Kelime sayısını hesaplayın\n",
    "new_df = data[word_count>=10] # 10 kelime veya daha fazla içeren metinleri içeren yeni bir veri çerçevesi oluştur\n",
    "new_df.dropna(inplace=True)"
   ]
  },
  {
   "cell_type": "code",
   "execution_count": 275,
   "metadata": {},
   "outputs": [
    {
     "data": {
      "text/html": [
       "<div>\n",
       "<style scoped>\n",
       "    .dataframe tbody tr th:only-of-type {\n",
       "        vertical-align: middle;\n",
       "    }\n",
       "\n",
       "    .dataframe tbody tr th {\n",
       "        vertical-align: top;\n",
       "    }\n",
       "\n",
       "    .dataframe thead th {\n",
       "        text-align: right;\n",
       "    }\n",
       "</style>\n",
       "<table border=\"1\" class=\"dataframe\">\n",
       "  <thead>\n",
       "    <tr style=\"text-align: right;\">\n",
       "      <th></th>\n",
       "      <th>text</th>\n",
       "      <th>Y</th>\n",
       "    </tr>\n",
       "  </thead>\n",
       "  <tbody>\n",
       "    <tr>\n",
       "      <th>0</th>\n",
       "      <td>thank you for understanding think very highly you and would not revert without discussion</td>\n",
       "      <td>0</td>\n",
       "    </tr>\n",
       "    <tr>\n",
       "      <th>2</th>\n",
       "      <td>somebody will invariably try add religion really you mean the way people have invariably kept adding religion the samuel beckett infobox and why you bother bringing the longdead completely nonexistent influences issue youre just flailing making crap the fly for comparison the only explicit acknowledgement the entire amos article that personally jewish the categories</td>\n",
       "      <td>0</td>\n",
       "    </tr>\n",
       "    <tr>\n",
       "      <th>3</th>\n",
       "      <td>says right there that type the type institution needed this case because there are three levels suny schools university centers and doctoral granting institutions state colleges community colleges needed this case clarify that suny center says even binghamton university university albany state university new york and stony brook university stop trying say has not because totally right this case</td>\n",
       "      <td>0</td>\n",
       "    </tr>\n",
       "    <tr>\n",
       "      <th>4</th>\n",
       "      <td>before adding new product the list make sure has relevant before adding new product the list make sure has wikipedia entry already proving has relevance and giving the reader the possibility read more about otherwise could subject deletion see this articles revision history</td>\n",
       "      <td>0</td>\n",
       "    </tr>\n",
       "    <tr>\n",
       "      <th>6</th>\n",
       "      <td>reason for banning throwing this article needs section why throwing banned the moment noncricket fan seems kind arbitrary</td>\n",
       "      <td>0</td>\n",
       "    </tr>\n",
       "    <tr>\n",
       "      <th>...</th>\n",
       "      <td>...</td>\n",
       "      <td>...</td>\n",
       "    </tr>\n",
       "    <tr>\n",
       "      <th>63973</th>\n",
       "      <td>jerome see you never got around this… i’m not surprised looked for example the ‘’in nomine’’ plainsong notaion and couldn’t find one online astonishment too but maybe you could clear question for the cantus firmus the english ‘’in nomines’’ the plainchant the alto part one taverner’s other three parts this not clear the article the ‘’in nomines’’ are based the plainchant then where does taverner come into your expertise would most appreciated and maybe the article requires some explanation this effect</td>\n",
       "      <td>0</td>\n",
       "    </tr>\n",
       "    <tr>\n",
       "      <th>63974</th>\n",
       "      <td>lucky bastard heh you are famous now kida envy that congrats</td>\n",
       "      <td>0</td>\n",
       "    </tr>\n",
       "    <tr>\n",
       "      <th>63975</th>\n",
       "      <td>shame you all you want speak about gays and not about romanians</td>\n",
       "      <td>0</td>\n",
       "    </tr>\n",
       "    <tr>\n",
       "      <th>63976</th>\n",
       "      <td>mel gibson nazi bitch who makes shitty movies has much buttsex that his asshole now big enough considered country</td>\n",
       "      <td>1</td>\n",
       "    </tr>\n",
       "    <tr>\n",
       "      <th>63977</th>\n",
       "      <td>unicorn lair discovery supposedly unicorn lair has been discovered pyongyang north korea the lair supposedly associated with king dongmyeong goguryeo who supposedly rode unicorn should added but cannot quite find where insert</td>\n",
       "      <td>0</td>\n",
       "    </tr>\n",
       "  </tbody>\n",
       "</table>\n",
       "<p>49889 rows × 2 columns</p>\n",
       "</div>"
      ],
      "text/plain": [
       "                                                                                                                                                                                                                                                                                                                                                                                                                                                                                                                             text  \\\n",
       "0                                                                                                                                                                                                                                                                                                                                                                                                                                       thank you for understanding think very highly you and would not revert without discussion   \n",
       "2                                                                                                                                                somebody will invariably try add religion really you mean the way people have invariably kept adding religion the samuel beckett infobox and why you bother bringing the longdead completely nonexistent influences issue youre just flailing making crap the fly for comparison the only explicit acknowledgement the entire amos article that personally jewish the categories   \n",
       "3                                                                                                                   says right there that type the type institution needed this case because there are three levels suny schools university centers and doctoral granting institutions state colleges community colleges needed this case clarify that suny center says even binghamton university university albany state university new york and stony brook university stop trying say has not because totally right this case   \n",
       "4                                                                                                                                                                                                                                              before adding new product the list make sure has relevant before adding new product the list make sure has wikipedia entry already proving has relevance and giving the reader the possibility read more about otherwise could subject deletion see this articles revision history   \n",
       "6                                                                                                                                                                                                                                                                                                                                                                                                       reason for banning throwing this article needs section why throwing banned the moment noncricket fan seems kind arbitrary   \n",
       "...                                                                                                                                                                                                                                                                                                                                                                                                                                                                                                                           ...   \n",
       "63973  jerome see you never got around this… i’m not surprised looked for example the ‘’in nomine’’ plainsong notaion and couldn’t find one online astonishment too but maybe you could clear question for the cantus firmus the english ‘’in nomines’’ the plainchant the alto part one taverner’s other three parts this not clear the article the ‘’in nomines’’ are based the plainchant then where does taverner come into your expertise would most appreciated and maybe the article requires some explanation this effect   \n",
       "63974                                                                                                                                                                                                                                                                                                                                                                                                                                                                lucky bastard heh you are famous now kida envy that congrats   \n",
       "63975                                                                                                                                                                                                                                                                                                                                                                                                                                                             shame you all you want speak about gays and not about romanians   \n",
       "63976                                                                                                                                                                                                                                                                                                                                                                                                           mel gibson nazi bitch who makes shitty movies has much buttsex that his asshole now big enough considered country   \n",
       "63977                                                                                                                                                                                                                                                                                           unicorn lair discovery supposedly unicorn lair has been discovered pyongyang north korea the lair supposedly associated with king dongmyeong goguryeo who supposedly rode unicorn should added but cannot quite find where insert   \n",
       "\n",
       "       Y  \n",
       "0      0  \n",
       "2      0  \n",
       "3      0  \n",
       "4      0  \n",
       "6      0  \n",
       "...   ..  \n",
       "63973  0  \n",
       "63974  0  \n",
       "63975  0  \n",
       "63976  1  \n",
       "63977  0  \n",
       "\n",
       "[49889 rows x 2 columns]"
      ]
     },
     "execution_count": 275,
     "metadata": {},
     "output_type": "execute_result"
    }
   ],
   "source": [
    "pd.set_option('display.max_colwidth', None)\n",
    "\n",
    "new_df"
   ]
  },
  {
   "cell_type": "code",
   "execution_count": 258,
   "metadata": {},
   "outputs": [],
   "source": [
    "#new_dataset = shuffle(new_dataset)"
   ]
  },
  {
   "cell_type": "code",
   "execution_count": 259,
   "metadata": {},
   "outputs": [],
   "source": [
    "#new_dataset.to_csv('new_toxic.csv', index=False, encoding='utf-8')"
   ]
  },
  {
   "cell_type": "code",
   "execution_count": 260,
   "metadata": {},
   "outputs": [
    {
     "data": {
      "text/html": [
       "<div>\n",
       "<style scoped>\n",
       "    .dataframe tbody tr th:only-of-type {\n",
       "        vertical-align: middle;\n",
       "    }\n",
       "\n",
       "    .dataframe tbody tr th {\n",
       "        vertical-align: top;\n",
       "    }\n",
       "\n",
       "    .dataframe thead th {\n",
       "        text-align: right;\n",
       "    }\n",
       "</style>\n",
       "<table border=\"1\" class=\"dataframe\">\n",
       "  <thead>\n",
       "    <tr style=\"text-align: right;\">\n",
       "      <th></th>\n",
       "      <th>text</th>\n",
       "      <th>Y</th>\n",
       "    </tr>\n",
       "  </thead>\n",
       "  <tbody>\n",
       "    <tr>\n",
       "      <th>8</th>\n",
       "      <td>arabs committing genocide iraq protests europe may europe also burn hell</td>\n",
       "      <td>1</td>\n",
       "    </tr>\n",
       "    <tr>\n",
       "      <th>38</th>\n",
       "      <td>dare vandalize page hms beagle dont vandalize demon</td>\n",
       "      <td>1</td>\n",
       "    </tr>\n",
       "    <tr>\n",
       "      <th>89</th>\n",
       "      <td>eek shes cute earthy kind way cant sing shit though thanks giving unhappy memory</td>\n",
       "      <td>1</td>\n",
       "    </tr>\n",
       "    <tr>\n",
       "      <th>106</th>\n",
       "      <td>well sucks university nicknameless first time ncaa history happened</td>\n",
       "      <td>1</td>\n",
       "    </tr>\n",
       "    <tr>\n",
       "      <th>124</th>\n",
       "      <td>hate america going bomb shit cities quezas rain</td>\n",
       "      <td>1</td>\n",
       "    </tr>\n",
       "  </tbody>\n",
       "</table>\n",
       "</div>"
      ],
      "text/plain": [
       "                                                                                 text  \\\n",
       "8            arabs committing genocide iraq protests europe may europe also burn hell   \n",
       "38                                dare vandalize page hms beagle dont vandalize demon   \n",
       "89   eek shes cute earthy kind way cant sing shit though thanks giving unhappy memory   \n",
       "106               well sucks university nicknameless first time ncaa history happened   \n",
       "124                                   hate america going bomb shit cities quezas rain   \n",
       "\n",
       "     Y  \n",
       "8    1  \n",
       "38   1  \n",
       "89   1  \n",
       "106  1  \n",
       "124  1  "
      ]
     },
     "execution_count": 260,
     "metadata": {},
     "output_type": "execute_result"
    }
   ],
   "source": [
    "new_dataset.head()"
   ]
  },
  {
   "cell_type": "code",
   "execution_count": 261,
   "metadata": {},
   "outputs": [
    {
     "name": "stderr",
     "output_type": "stream",
     "text": [
      "[nltk_data] Downloading package stopwords to\n",
      "[nltk_data]     /Users/toygar/nltk_data...\n",
      "[nltk_data]   Package stopwords is already up-to-date!\n"
     ]
    },
    {
     "data": {
      "text/plain": [
       "True"
      ]
     },
     "execution_count": 261,
     "metadata": {},
     "output_type": "execute_result"
    }
   ],
   "source": [
    "import nltk\n",
    "nltk.download('stopwords')"
   ]
  },
  {
   "cell_type": "code",
   "execution_count": 262,
   "metadata": {},
   "outputs": [
    {
     "data": {
      "text/html": [
       "<div>\n",
       "<style scoped>\n",
       "    .dataframe tbody tr th:only-of-type {\n",
       "        vertical-align: middle;\n",
       "    }\n",
       "\n",
       "    .dataframe tbody tr th {\n",
       "        vertical-align: top;\n",
       "    }\n",
       "\n",
       "    .dataframe thead th {\n",
       "        text-align: right;\n",
       "    }\n",
       "</style>\n",
       "<table border=\"1\" class=\"dataframe\">\n",
       "  <thead>\n",
       "    <tr style=\"text-align: right;\">\n",
       "      <th></th>\n",
       "      <th>text</th>\n",
       "      <th>Y</th>\n",
       "    </tr>\n",
       "  </thead>\n",
       "  <tbody>\n",
       "    <tr>\n",
       "      <th>8</th>\n",
       "      <td>arabs committing genocide iraq protests europe may europe also burn hell</td>\n",
       "      <td>1</td>\n",
       "    </tr>\n",
       "    <tr>\n",
       "      <th>38</th>\n",
       "      <td>dare vandalize page hms beagle dont vandalize demon</td>\n",
       "      <td>1</td>\n",
       "    </tr>\n",
       "    <tr>\n",
       "      <th>89</th>\n",
       "      <td>eek shes cute earthy kind way cant sing shit though thanks giving unhappy memory</td>\n",
       "      <td>1</td>\n",
       "    </tr>\n",
       "    <tr>\n",
       "      <th>106</th>\n",
       "      <td>well sucks university nicknameless first time ncaa history happened</td>\n",
       "      <td>1</td>\n",
       "    </tr>\n",
       "    <tr>\n",
       "      <th>124</th>\n",
       "      <td>hate america going bomb shit cities quezas rain</td>\n",
       "      <td>1</td>\n",
       "    </tr>\n",
       "  </tbody>\n",
       "</table>\n",
       "</div>"
      ],
      "text/plain": [
       "                                                                                 text  \\\n",
       "8            arabs committing genocide iraq protests europe may europe also burn hell   \n",
       "38                                dare vandalize page hms beagle dont vandalize demon   \n",
       "89   eek shes cute earthy kind way cant sing shit though thanks giving unhappy memory   \n",
       "106               well sucks university nicknameless first time ncaa history happened   \n",
       "124                                   hate america going bomb shit cities quezas rain   \n",
       "\n",
       "     Y  \n",
       "8    1  \n",
       "38   1  \n",
       "89   1  \n",
       "106  1  \n",
       "124  1  "
      ]
     },
     "execution_count": 262,
     "metadata": {},
     "output_type": "execute_result"
    }
   ],
   "source": [
    "stop = stopwords.words('english')\n",
    "no_stopwords = new_dataset\n",
    "no_stopwords['text'] = new_dataset['text'].apply(lambda x: ' '.join([word for word in x.split() if word not in (stop)]))\n",
    "no_stopwords.head()"
   ]
  },
  {
   "cell_type": "code",
   "execution_count": 263,
   "metadata": {},
   "outputs": [],
   "source": [
    "no_stopwords.to_csv('data5_toxic.csv', index=False, encoding='utf-8')"
   ]
  },
  {
   "cell_type": "code",
   "execution_count": 264,
   "metadata": {},
   "outputs": [
    {
     "name": "stderr",
     "output_type": "stream",
     "text": [
      "[nltk_data] Downloading package punkt to /Users/toygar/nltk_data...\n",
      "[nltk_data]   Package punkt is already up-to-date!\n"
     ]
    }
   ],
   "source": [
    "nltk.download('punkt');"
   ]
  },
  {
   "cell_type": "code",
   "execution_count": 265,
   "metadata": {},
   "outputs": [
    {
     "name": "stdout",
     "output_type": "stream",
     "text": [
      "[['arabs', 'committing', 'genocide', 'iraq', 'protests', 'europe', 'may', 'europe', 'also', 'burn', 'hell'], ['dare', 'vandalize', 'page', 'hms', 'beagle', 'dont', 'vandalize', 'demon'], ['eek', 'shes', 'cute', 'earthy', 'kind', 'way', 'cant', 'sing', 'shit', 'though', 'thanks', 'giving', 'unhappy', 'memory'], ['well', 'sucks', 'university', 'nicknameless', 'first', 'time', 'ncaa', 'history', 'happened'], ['hate', 'america', 'going', 'bomb', 'shit', 'cities', 'quezas', 'rain'], ['moi', 'ego', 'mortified', 'could', 'say', 'thing', 'poor', 'old', 'mona', 'always', 'thiught', 'miserable', 'looking', 'woman', 'probably', 'hormonal'], ['tenth', 'anniversary', 'new', 'york', 'times', 'columnist', 'paul', 'krugman', 'delivered', 'odious', 'piece', 'dribble', 'ever', 'attack', 'well', 'least', 'since', 'last', 'time', 'wrote', 'headline', 'quote', 'years', 'shame', 'end', 'quote', 'directed', 'radical', 'islam', 'instead', 'targets', 'america', 'quote', 'fake', 'heroes', 'krugman', 'claims', 'atrocity', 'hijacked', 'sick', 'word', 'given', 'actually', 'talking', 'real', 'hijackers', 'killed', 'americans', 'referring', 'people', 'like', 'george', 'bush', 'rudy', 'giuliani', 'thinks', 'capitalized', 'horrible', 'crimes', 'worst', 'part', 'end', 'column', 'creep', 'writes', 'going', 'allow', 'comments', 'post', 'obvious', 'reasons', 'obvious', 'reason', 'coward', 'mean', 'else', 'would', 'ban', 'responses', 'hes', 'like', 'yearold', 'boy', 'crankcalling', 'hang', 'even', 'hears', 'response', 'hearing', 'shame', 'wickedness', 'watch', 'memorial', 'services', 'feel', 'sorrow', 'families', 'whose', 'grief', 'never', 'really', 'ends', 'since', 'lousy', 'emotional', 'reflection', 'usually', 'avoid', 'least', 'summarize', 'many', 'feel', 'today', 'nine', 'words', 'hell', 'paul', 'krugman', 'bearded', 'bitter', 'buffoon'], ['random', 'deletion', 'deleted', 'xanax', 'bars', 'fuck', 'mah', 'nigga', 'fuck', 'wit', 'good', 'links', 'section'], ['drunk', 'made', 'gibson', 'say', 'really', 'believes', 'little', 'freak', 'nazi', 'like', 'father', 'hope', 'dies', 'lung', 'cancer', 'soon'], ['warning', 'first', 'warning', 'stop', 'gay', 'raped', 'ass', 'indefinitely', 'without', 'notice'], ['maybe', 'one', 'days', 'cool', 'random', 'quote', 'way', 'like', 'fucking', 'breeders', 'fuck', 'sex'], ['true', 'truth', 'balls', 'official', 'status', 'principality', 'monaco', 'stupid', 'warm', 'musky', 'regards', 'serene', 'highness', 'prince', 'scruffy', 'musky', 'coinpurse'], ['hes', 'show', 'whihc', 'cheap', 'copy', 'ragu', 'romeo', 'show', 'hes', 'popular', 'stupid', 'people', 'auditions', 'watch', 'gutter', 'show'], ['willeys', 'male', 'willey', 'likley', 'gay', 'lol'], ['fucking', 'braindead', 'oroszka', 'syrian', 'government', 'sunni', 'including', 'first', 'lady', 'army'], ['hate', 'eagles', 'since', 'made', 'comment', 'every', 'action', 'undertake', 'somebody', 'fucking', 'ass', 'thinking', 'trip', 'ani', 'would', 'productive', 'thoughts'], ['cause', 'devil', 'evil', 'mind', 'penis', 'materialscientists', 'birth', 'place'], ['cite', 'policies', 'wasting', 'fucking', 'time', 'cite', 'policy', 'shall', 'strike', 'bastards', 'better', 'good', 'fucking', 'idea', 'complaint', 'say', 'wasting', 'goddamn', 'time', 'opinions', 'worthless', 'matters', 'policies', 'guidelines', 'sources', 'give', 'pile', 'steaming', 'dogshit', 'manners', 'sounding', 'nonsense', 'bullshit', 'understanding', 'community', 'mores', 'whole', 'fuck', 'lot', 'ruder', 'opinion', 'jesus', 'christ', 'stop', 'politetrolling', 'learn', 'fucking', 'rules', 'wikipedias', 'rulessimplecomplex'], ['court', 'shit', 'cause', 'judge', 'look', 'like', 'motherfucker', 'put', 'ass', 'boat', 'made', 'nigga', 'outro', 'mamma', 'rag', 'nigga', 'durag', 'nigga', 'ballistics', 'nigga', 'urethas', 'nigga', 'nigga'], ['users', 'like', 'make', 'wikipedia', 'shithole', 'youre', 'fucker', 'get', 'life', 'could', 'vandalize', 'want', 'dare', 'earse', 'agoian', 'change', 'name', 'fuckboti', 'kill', 'cut', 'corpse', 'hell', 'ill', 'chop', 'mama', 'daddy', 'baldheaded', 'granny', 'mama', 'fat', 'need', 'map', 'get', 'around', 'fat', 'relations', 'shamu', 'come', 'fucker', 'worst', 'users', 'like', 'make', 'wikipedia', 'shithole', 'youre', 'fucker', 'get', 'life', 'could', 'vandalize', 'want', 'dare', 'earse', 'agoian', 'change', 'name', 'fuckboti', 'kill', 'cut', 'corpse', 'hell', 'ill', 'chop', 'mama', 'daddy', 'baldheaded', 'granny', 'mama', 'fat', 'need', 'map', 'get', 'around', 'fat', 'relations', 'shamu', 'come', 'fucker', 'worst', 'doit', 'users', 'like', 'make', 'wikipedia', 'shithole', 'youre', 'fucker', 'get', 'life', 'could', 'vandalize', 'want', 'dare', 'earse', 'agoian', 'change', 'name', 'fuckboti', 'kill', 'cut', 'corpse', 'hell', 'ill', 'chop', 'mama', 'daddy', 'baldheaded', 'granny', 'mama', 'fat', 'need', 'map', 'get', 'around', 'fat', 'relations', 'shamu', 'come', 'fucker', 'worst', 'doit', 'users', 'like', 'make', 'wikipedia', 'shithole', 'youre', 'fucker', 'get', 'life', 'could', 'vandalize', 'want', 'dare', 'earse', 'agoian', 'change', 'name', 'fuckboti', 'kill', 'cut', 'corpse', 'hell', 'ill', 'chop', 'mama', 'daddy', 'baldheaded', 'granny', 'mama', 'fat', 'need', 'map', 'get', 'around', 'fat', 'relations', 'shamu', 'come', 'fucker', 'worst', 'doit', 'users', 'like', 'make', 'wikipedia', 'shithole', 'youre', 'fucker', 'get', 'life', 'could', 'vandalize', 'want', 'dare', 'earse', 'agoian', 'change', 'name', 'fuckboti', 'kill', 'cut', 'corpse', 'hell', 'ill', 'chop', 'mama', 'daddy', 'baldheaded', 'granny', 'mama', 'fat', 'need', 'map', 'get', 'around', 'fat', 'relations', 'shamu', 'come', 'fucker', 'worst', 'doit', 'users', 'like', 'make', 'wikipedia', 'shithole', 'youre', 'fucker', 'get', 'life', 'could', 'vandalize', 'want', 'dare', 'earse', 'agoian', 'change', 'name', 'fuckboti', 'kill', 'cut', 'corpse', 'hell', 'ill', 'chop', 'mama', 'daddy', 'baldheaded', 'granny', 'mama', 'fat', 'need', 'map', 'get', 'around', 'fat', 'relations', 'shamu', 'come', 'fucker', 'worst', 'doit', 'users', 'like', 'make', 'wikipedia', 'shithole', 'youre', 'fucker', 'get', 'life', 'could', 'vandalize', 'want', 'dare', 'earse', 'agoian', 'change', 'name', 'fuckboti', 'kill', 'cut', 'corpse', 'hell', 'ill', 'chop', 'mama', 'daddy', 'baldheaded', 'granny', 'mama', 'fat', 'need', 'map', 'get', 'around', 'fat', 'relations', 'shamu', 'come', 'fucker', 'worst', 'doit', 'users', 'like', 'make', 'wikipedia', 'shithole', 'youre', 'fucker', 'get', 'life', 'could', 'vandalize', 'want', 'dare', 'earse', 'agoian', 'change', 'name', 'fuckboti', 'kill', 'cut', 'corpse', 'hell', 'ill', 'chop', 'mama', 'daddy', 'baldheaded', 'granny', 'mama', 'fat', 'need', 'map', 'get', 'around', 'fat', 'relations', 'shamu', 'come', 'fucker', 'worst', 'doit', 'users', 'like', 'make', 'wikipedia', 'shithole', 'youre', 'fucker', 'get', 'life', 'could', 'vandalize', 'want', 'dare', 'earse', 'agoian', 'change', 'name', 'fuckboti', 'kill', 'cut', 'corpse', 'hell', 'ill', 'chop', 'mama', 'daddy', 'baldheaded', 'granny', 'mama', 'fat', 'need', 'map', 'get', 'around', 'fat', 'relations', 'shamu', 'come', 'fucker', 'worst', 'doit', 'users', 'like', 'make', 'wikipedia', 'shithole', 'youre', 'fucker', 'get', 'life', 'could', 'vandalize', 'want', 'dare', 'earse', 'agoian', 'change', 'name', 'fuckboti', 'kill', 'cut', 'corpse', 'hell', 'ill', 'chop', 'mama', 'daddy', 'baldheaded', 'granny', 'mama', 'fat', 'need', 'map', 'get', 'around', 'fat', 'relations', 'shamu', 'come', 'fucker', 'worst', 'doit', 'users', 'like', 'make', 'wikipedia', 'shithole', 'youre', 'fucker', 'get', 'life', 'could', 'vandalize', 'want', 'dare', 'earse', 'agoian', 'change', 'name', 'fuckboti', 'kill', 'cut', 'corpse', 'hell', 'ill', 'chop', 'mama', 'daddy', 'baldheaded', 'granny', 'mama', 'fat', 'need', 'map', 'get', 'around', 'fat', 'relations', 'shamu', 'come', 'fucker', 'worst', 'doit', 'users', 'like', 'make', 'wikipedia', 'shithole', 'youre'], ['whole', 'doormatt', 'joke', 'funky', 'fuck', 'wrote'], ['anoymous', 'bunch', 'cunts', 'scared', 'show', 'selves', 'real', 'world'], ['wat', 'heck', 'hell', 'wrong', 'next', 'time', 'vandalize', 'page', 'going', 'fayetteville', 'arkansas', 'beating', 'crap'], ['overall', 'aim', 'project', 'worth', 'putting', 'sometimes', 'personal', 'learning', 'involved', 'topic', 'research', 'worthwhile', 'goal', 'otherwise', 'reason', 'put', 'shit', 'wish', 'usually', 'onerous', 'even', 'idiocy', 'painful', 'required', 'make', 'show', 'civil', 'fools', 'respect'], ['omg', 'text', 'site', 'edit', 'lolololol', 'wat', 'thinkone', 'night', 'lead', 'toyeah', 'shove', 'cock', 'inup', 'vigina', 'says', 'ruthiemackenzie', 'someone', 'edited', 'aka', 'know', 'shouldnt', 'typing', 'stuff', 'like', 'wiki', 'really', 'fun', 'like', 'bitch', 'makenzie', 'really', 'mother', 'year', 'old', 'daughter', 'slut', 'sexuall', 'intercoarse', 'omg', 'omg', 'omg', 'fuck', 'going', 'getting', 'preety', 'late', 'think', 'going', 'bed', 'thank', 'goooooood', 'night', 'think', 'husband', 'comiing', 'sees', 'typing', 'wouldnt', 'want', 'anyway', 'nothing', 'darn', 'actress', 'btw', 'self', 'obseesssed', 'whore', 'yeahhhhhhhhhh', 'baby', 'kids', 'dont', 'sex', 'till', 'married', 'cause', 'sex', 'turned', 'dont', 'even', 'try', 'condom', 'unlike', 'mackenzie', 'roman', 'virgin', 'acturely', 'beutiful', 'thingwell', 'sexim', 'acturely', 'married', 'children', 'probably', 'think', 'bull', 'anyway', 'nows', 'might', 'man', 'lol', 'question', 'belive', 'belive', 'btw', 'exact', 'personthat', 'someone', 'edited', 'aka'], ['foolish', 'nonsense', 'never', 'something', 'stretched', 'point', 'communicating', 'friends', 'friends', 'people', 'side', 'earth', 'quite', 'pathetic', 'actually', 'calton', 'inconsiderable', 'selfish', 'beast'], ['fuck', 'like', 'angelique', 'carrington', 'tamara', 'harringtonfuck', 'asshole'], ['ryan', 'boe', 'queer', 'truth', 'hes', 'big', 'gay', 'bag'], ['threatening', 'block', 'reason', 'fucking', 'bitch'], ['utterly', 'utterly', 'tiny', 'insignificant', 'anal', 'retentive', 'thing', 'later', 'learned', 'dan', 'marino', 'kidnap', 'join', 'snowflake', 'missed', 'ped', 'end', 'kidnap'], ['think', 'origin', 'sagging', 'roots', 'human', 'stupidity', 'limits'], ['ruined', 'moron', 'ruined', 'page', 'trash', 'unusable', 'revert', 'immeadeatly'], ['dudeget', 'fucking', 'clue', 'goth', 'dressing', 'black', 'shitu', 'hail', 'satian', 'sort', 'shit', 'emo', 'emo', 'sit', 'room', 'day', 'staring', 'ceiling', 'wondering', 'anyone', 'would', 'really', 'care', 'fell', 'killing', 'instantlyi', 'knowemo', 'self', 'harm', 'cutting', 'etcwanting', 'diejust', 'like'], ['stop', 'ass', 'seems', 'german', 'love', 'german', 'magazine', 'thats', 'great', 'one', 'magazine', 'times', 'rest', 'world', 'times', 'dont', 'try', 'suggest', 'magazines', 'times', 'important', 'rest', 'world', 'doesnt', 'really', 'care', 'magazine', 'care', 'times'], ['sex', 'change', 'expert', 'oxy', 'morons', 'almost', 'everyone', 'working', 'field', 'going', 'hacks', 'either', 'side'], ['jerk', 'write', 'huge', 'jerk'], ['banned', 'yet', 'homophobic', 'mexican', 'arsehole'], ['created', 'page', 'released', 'stupid', 'pop', 'song', 'flood', 'stupid', 'edits', 'commenced', 'seems', 'mtv', 'crowd', 'enjoys', 'vandalizing', 'page', 'try', 'keep', 'though'], ['removed', 'frogs', 'penis', 'caption', 'real', 'name', 'raumskulptur', 'translates', 'spacial', 'sculpture', 'shall', 'take', 'snap', 'sign', 'next', 'time', 'campus', 'pink', 'bicycle', 'mounted', 'pole', 'nort', 'sculpture'], ['wtf', 'whoever', 'removed', 'great', 'images', 'shot', 'dead', 'corpse', 'raped', 'one', 'nice', 'made', 'backround'], ['serious', 'seriously', 'purpose', 'flagging', 'article', 'deletion', 'serve', 'fag'], ['maybe', 'ashamed', 'enjoying', 'looking', 'picture', 'want', 'ashamed', 'pedo'], ['someone', 'please', 'edit', 'line', 'lebanon', 'operation', 'army', 'center', 'military', 'history', 'contingency', 'operations', 'fckin', 'stupid', 'hoee', 'end', 'article'], ['thank', 'done', 'bit', 'reading', 'turns', 'fact', 'idiot', 'thank', 'nice'], ['fuck', 'fuck', 'fuck', 'fuck', 'fuck', 'fuck', 'fuck', 'fuck', 'fuck', 'fuck', 'fuck', 'fuck', 'fuck', 'fuck', 'fuck', 'fuck', 'fuck', 'fuck', 'fuck', 'fuck', 'fuck', 'fuck', 'fuck', 'fuck', 'fuck', 'fuck', 'fuck', 'fuck', 'fuck', 'fuck', 'fuck', 'fuck', 'fuck', 'fuck', 'fuck', 'fuck', 'fuck', 'fuck', 'fuck', 'fuck', 'fuck', 'fuck', 'fuck', 'fuck', 'fuck', 'fuck', 'fuck', 'fuck', 'fuck', 'fuck', 'fuck', 'fuck', 'fuck', 'fuck', 'fuck', 'fuck', 'fuck', 'fuck', 'fuck', 'fuck', 'fuck', 'fuck', 'fuck', 'fuck', 'fuck', 'fuck', 'fuck', 'fuck', 'fuck', 'fuck', 'fuck', 'fuck', 'fuck', 'fuck', 'fuck', 'fuck', 'fuck', 'fuck', 'fuck', 'fuck', 'fuck', 'fuck', 'fuck', 'fuck', 'fuck', 'fuck', 'fuck', 'fuck', 'fuck', 'fuck', 'fuck', 'fuck', 'fuck', 'fuck', 'fuck', 'fuck', 'fuck', 'fuck', 'fuck', 'fuck', 'fuck', 'fuck', 'fuck', 'fuck', 'fuck', 'fuck', 'fuck', 'fuck', 'fuck', 'fuck', 'fuck', 'fuck', 'fuck', 'fuck', 'fuck', 'fuck', 'fuck', 'fuck', 'fuck', 'fuck', 'fuck', 'fuck', 'fuck', 'fuck', 'fuck', 'fuck', 'fuck', 'fuck', 'fuck', 'fuck', 'fuck', 'fuck', 'fuck', 'fuck', 'fuck', 'fuck', 'fuck', 'fuck', 'fuck', 'fuck', 'fuck', 'fuck', 'fuck', 'fuck', 'fuck', 'fuck', 'fuck', 'fuck', 'fuck', 'fuck', 'fuck', 'fuck', 'fuck', 'fuck', 'fuck', 'fuck', 'fuck', 'fuck', 'fuck', 'fuck', 'fuck', 'fuck', 'fuck', 'fuck', 'fuck', 'fuck', 'fuck', 'fuck', 'fuck', 'fuck', 'fuck', 'fuck', 'fuck', 'fuck', 'fuck', 'fuck', 'fuck', 'fuck', 'fuck', 'fuck', 'fuck', 'fuck', 'fuck', 'fuck', 'fuck', 'fuck', 'fuck', 'fuck', 'fuck', 'fuck', 'fuck', 'fuck', 'fuck', 'fuck', 'fuck', 'fuck', 'fuck', 'fuck', 'fuck', 'fuck', 'fuck', 'fuck', 'fuck', 'fuck', 'fuck', 'fuck', 'fuck', 'fuck', 'fuck', 'fuck', 'fuck', 'fuck', 'fuck', 'fuck', 'fuck', 'fuck', 'fuck', 'fuck', 'fuck', 'fuck', 'fuck', 'fuck', 'fuck', 'fuck', 'fuck', 'fuck', 'fuck', 'fuck', 'fuck', 'fuck', 'fuck', 'fuck', 'fuck', 'fuck', 'fuck', 'fuck', 'fuck', 'fuck', 'fuck', 'fuck', 'fuck', 'fuck', 'fuck', 'fuck', 'fuck', 'fuck', 'fuck', 'fuck', 'fuck', 'fuck', 'fuck', 'fuck', 'fuck', 'fuck', 'fuck', 'fuck', 'fuck', 'fuck', 'fuck', 'fuck', 'fuck', 'fuck', 'fuck', 'fuck', 'fuck', 'fuck', 'fuck', 'fuck', 'fuck', 'fuck', 'fuck', 'fuck', 'fuck', 'fuck', 'fuck', 'fuck', 'fuck', 'fuck', 'fuck', 'fuck', 'fuck', 'fuck', 'fuck', 'fuck', 'fuck', 'fuck', 'fuck', 'fuck', 'fuck', 'fuck', 'fuck', 'fuck', 'fuck', 'fuck', 'fuck', 'fuck', 'fuck', 'fuck', 'fuck', 'fuck', 'fuck', 'fuck', 'fuck', 'fuck', 'fuck', 'fuck', 'fuck', 'fuck', 'fuck', 'fuck', 'fuck', 'fuck', 'fuck', 'fuck', 'fuck', 'fuck', 'fuck', 'fuck', 'fuck', 'fuck', 'fuck', 'fuck', 'fuck', 'fuck', 'fuck', 'fuck', 'fuck', 'fuck', 'fuck', 'fuck', 'fuck', 'fuck', 'fuck', 'fuck', 'fuck', 'fuck', 'fuck', 'fuck', 'fuck', 'fuck', 'fuck', 'fuck', 'fuck', 'fuck', 'fuck', 'fuck', 'fuck', 'fuck', 'fuck', 'fuck', 'fuck', 'fuck', 'fuck', 'fuck', 'fuck', 'fuck', 'fuck', 'fuck', 'fuck', 'fuck', 'fuck', 'fuck', 'fuck', 'fuck', 'fuck', 'fuck', 'fuck', 'fuck', 'fuck', 'fuck', 'fuck', 'fuck', 'fuck', 'fuck', 'fuck', 'fuck', 'fuck', 'fuck', 'fuck', 'fuck', 'fuck', 'fuck', 'fuck', 'fuck', 'fuck', 'fuck', 'fuck', 'fuck', 'fuck', 'fuck', 'fuck', 'fuck', 'fuck', 'fuck', 'fuck', 'fuck', 'fuck', 'fuck', 'fuck', 'fuck'], ['azerbaijanis', 'proud', 'ramil', 'safarov', 'opportunity', 'circumstances', 'would', 'kill', 'bastard', 'mother', 'fucker', 'armenians', 'bitches', 'soldiers', 'insulting', 'azerbaijani', 'flag', 'bastard', 'gurgen', 'lay', 'hell', 'mother', 'fucker', 'fuck', 'soul', 'whore', 'mother', 'assholes', 'fuck', 'armenian', 'fascists', 'natinoalists'], ['might', 'dicks', 'trying', 'look', 'serious', 'talking', 'two', 'girls', 'shitting', 'cup', 'eating', 'chocolate'], ['djmasacre', 'heck', 'sockpuppet', 'happens', 'wikipedia', 'really', 'pathetic', 'much', 'finding', 'information', 'filled', 'garbage'], ['yeah', 'right', 'dude', 'fucking', 'shall', 'give', 'links', 'look', 'prove', 'real', 'damn', 'real', 'kurt', 'angle'], ['shut', 'youre', 'silly', 'change', 'episode', 'numbers', 'whenever', 'bussiness', 'god', 'going', 'give', 'right', 'stupid', 'season', 'episodes', 'regular', 'episodes', 'understand', 'youre', 'wrong', 'one', 'tries', 'change', 'episode', 'numbers', 'wont', 'like', 'want', 'play', 'well', 'play', 'together', 'swear', 'wikipedia', 'ill', 'tell', 'administrator', 'selfish', 'possible', 'write', 'desperate', 'housewives', 'page', 'members', 'agree', 'episodes', 'season', 'something', 'sure', 'end', 'days', 'wikipedia', 'stop', 'adam', 'stop', 'adam', 'stop', 'adam'], ['thank', 'understanding', 'think', 'highly', 'would', 'revert', 'without', 'discussion'], ['somebody', 'invariably', 'try', 'add', 'religion', 'really', 'mean', 'way', 'people', 'invariably', 'kept', 'adding', 'religion', 'samuel', 'beckett', 'infobox', 'bother', 'bringing', 'longdead', 'completely', 'nonexistent', 'influences', 'issue', 'youre', 'flailing', 'making', 'crap', 'fly', 'comparison', 'explicit', 'acknowledgement', 'entire', 'amos', 'article', 'personally', 'jewish', 'categories'], ['says', 'right', 'type', 'type', 'institution', 'needed', 'case', 'three', 'levels', 'suny', 'schools', 'university', 'centers', 'doctoral', 'granting', 'institutions', 'state', 'colleges', 'community', 'colleges', 'needed', 'case', 'clarify', 'suny', 'center', 'says', 'even', 'binghamton', 'university', 'university', 'albany', 'state', 'university', 'new', 'york', 'stony', 'brook', 'university', 'stop', 'trying', 'say', 'totally', 'right', 'case'], ['adding', 'new', 'product', 'list', 'make', 'sure', 'relevant', 'adding', 'new', 'product', 'list', 'make', 'sure', 'wikipedia', 'entry', 'already', 'proving', 'relevance', 'giving', 'reader', 'possibility', 'read', 'otherwise', 'could', 'subject', 'deletion', 'see', 'articles', 'revision', 'history'], ['reason', 'banning', 'throwing', 'article', 'needs', 'section', 'throwing', 'banned', 'moment', 'noncricket', 'fan', 'seems', 'kind', 'arbitrary'], ['please', 'stop', 'continue', 'vandalize', 'wikipedia', 'homosexuality', 'blocked', 'editing'], ['energy', 'edited', 'introduction', 'previously', 'said', 'passive', 'transport', 'use', 'kind', 'energy', 'true', 'passive', 'transport', 'relies', 'kinetic', 'energy', 'substance', 'transported', 'kinetic', 'energy', 'causes', 'move', 'around', 'random', 'chance', 'cross', 'membrane', 'difference', 'active', 'transport', 'actually', 'uses', 'cells', 'energy', 'atp', 'electrochemical', 'gradient', 'pump', 'substance', 'across', 'membrane'], ['cut', 'short', 'sources', 'stating', 'rok', 'sovereign', 'post', 'otherwise', 'please', 'aknowledge', 'place', 'make'], ['jews', 'race', 'get', 'mother', 'mention', 'ethiopian', 'jews', 'testing', 'jews', 'proves', 'well', 'fact', 'accept', 'converts'], ['ollie', 'others', 'think', 'one', 'list', 'oldest', 'people', 'know', 'long', 'easy', 'answer', 'raise', 'cutoff', 'age', 'purely', 'round', 'number', 'full', 'years', 'shorter', 'record', 'make', 'top', 'top', 'everyone', 'tell', 'maximum', 'list', 'size', 'set', 'threshold'], ['sure', 'whether', 'notable', 'enough', 'mentioned', 'article', 'right', 'versions', 'later', 'open', 'files', 'created', 'previous', 'versions', 'save', 'files', 'format', 'suffix', 'msx', 'version', 'number', 'intentional', 'course', 'besides', 'versions', 'save', 'files', 'compressed', 'format'], ['balance', 'page', 'one', 'sentence', 'basic', 'definition', 'word', 'huge', 'amount', 'slangprofane', 'uses', 'perhaps', 'former', 'extended', 'information', 'female', 'dogs', 'available', 'beyond', 'name', 'encyclopaedia', 'dictionary', 'feel', 'whoever', 'looking', 'definition', 'appropiate', 'deleted', 'wikipediaimmediatly', 'word', 'used', 'often', 'also', 'mean', 'word', 'belive', 'majorly', 'true', 'much', 'okay', 'good', 'meaning', 'female', 'dog', 'bitch', 'also', 'stands', 'name', 'brittany', 'fellows—preceding', 'unsigned', 'comment', 'added', 'etymology', 'word', 'bitch', 'old', 'norse', 'bikkjuna', 'meaning', 'female', 'dog', 'unknown', 'origin', 'grimm', 'derives', 'old', 'norse', 'words', 'lapp', 'pittja', 'oed', 'notes', 'converse', 'equally', 'possible', 'adj', 'bitchy', 'first', 'seen', 'verb', 'meaning', 'complain', 'slang', 'bitchen', 'good', 'attested', 'reclaiming', 'word', 'bitch', 'word', 'bitch', 'actually', 'offencive', 'american', 'canadian', 'english', 'english', 'variants', 'bitch', 'maintains', 'correct', 'definition', 'female', 'canine', 'people', 'argued', 'bitch', 'different', 'used', 'insult', 'pig', 'dog', 'cow', 'others', 'considered', 'profane', 'bitch', 'far', 'concerned', 'nothing', 'reclaim', 'bitch', 'simply', 'means', 'female', 'canine', 'may', 'used', 'pejorative', 'descriptor', 'make', 'profanity', 'definately', 'say', 'something', 'kyle', 'vanderweilen', 'bitchin', 'particular', 'evidence', 'women', 'reclaiming', 'word', 'bitch', 'anyone', 'point', 'articles', 'etc', 'song', 'definitely', 'interesting', 'belongs', 'actually', 'reclaim', 'word', 'bitch', 'reclaims', 'word', 'sinner', 'also', 'really', 'understand', 'last', 'paragraph', 'sucks', 'going', 'try', 'clear', 'realized', 'know', 'means', 'someone', 'point', 'source', 'lays', 'argument', 'bitches', 'fertility', 'patriarchy', 'clearly', 'need', 'articles', 'definitely', 'enough', 'examples', 'even', 'outside', 'missy', 'elliot', 'cleary', 'repeatedly', 'reclaims', 'word', 'instance', 'bitch', 'references', 'fine', 'name', 'missy', 'elliot', 'got', 'find', 'quote', 'rolling', 'stone', 'review', 'mentioned', 'reclaiming', 'word', 'fact', 'one', 'knows', 'might', 'interesting', 'add', 'section', 'work', 'relates', 'womenslurs', 'generally', 'within', 'hiphop', 'relevant', 'reclamation', 'seems', 'poison', 'woman', 'use', 'epithet', 'still', 'strongly', 'connotes', 'despised', 'traits', 'see', 'using', 'word', 'connoting', 'querolous', 'spiteful', 'malicious', 'empowering', 'know', 'lifes', 'bitch', 'stems', 'reaction', 'prevalence', 'tagging', 'woman', 'adhere', 'certain', 'standard', 'femininity', 'bitch', 'use', 'literary', 'example', 'novel', 'handmaids', 'tale', 'narrator', 'related', 'feeling', 'whenever', 'outsmarted', 'man', 'could', 'almost', 'hear', 'calling', 'bitch', 'mind', 'even', 'husband', 'literary', 'reaction', 'recited', 'jealousy', 'men', 'names', 'men', 'outsmart', 'word', 'like', 'bitch', 'resort', 'greater', 'variety', 'pejoritive', 'epithets', 'though', 'specific', 'think', 'standard', 'femininity', 'referred', 'pretext', 'subordination', 'sexes', 'often', 'strive', 'impose', 'men', 'traditionally', 'power', 'popular', 'epithet', 'slang', 'connotations', 'bitch', 'diffuse', 'though', 'still', 'commonly', 'pernicious', 'think', 'bitch', 'chiefly', 'denunciation', 'punish', 'women', 'conform', 'standard', 'rather', 'contemptuous', 'word', 'often', 'used', 'however', 'still', 'see', 'point', 'reclamati'], ['convinced', 'blind', 'documented', 'possible', 'would', 'call', 'legally', 'blind', 'great', 'vision', 'name', 'blind', 'blake', 'exaggerated', 'moniker', 'although', 'proof', 'got', 'feeling', 'legally', 'blind', 'likely', 'totally', 'blind', 'course', 'got', 'evidence', 'back', 'thing'], ['ref', 'ponzi', 'scheme', 'padillah', 'opinion', 'trying', 'impose', 'although', 'may', 'appear', 'highlighting', 'fact', 'remains', 'controversial', 'whether', 'ponzi', 'scheme', 'even', 'legal', 'one', 'can', 'not', 'state', 'fact', 'ponzi', 'scheme', 'saw', 'reference', 'perpetrator', 'can', 'not', 'treated', 'reliable', 'source', 'fact', 'claiming', 'ponzi', 'scheme', 'seems', 'opinion', 'point', 'claim', 'made', 'either', 'way', 'edit', 'question', 'accomplishes', 'thank', 'virat'], ['september', 'truce', 'according', 'several', 'news', 'sources', 'truce', 'reached', 'minsk', 'last', 'night'], ['would', 'never', 'think', 'would', 'need', 'say', 'wikipedia', 'fansite', 'discussion', 'board', 'anything', 'unannounced', 'authority', 'might', 'well', 'false', 'mmorpgs', 'overrated'], ['article', 'government', 'position', 'reaction', 'add', 'positions', 'kosovo', 'declaration', 'independence', 'foreign', 'relations', 'kosovo'], ['draculas', 'grandmother', 'draculas', 'grandmother', 'bulgarian', 'princess', 'sister', 'ivan', 'sratzimir', 'links', 'lands', 'across', 'danube', 'remain', 'largely', 'unexamined', 'would', 'appreciate', 'serious', 'contributions', 'kaloyan'], ['agree', 'billfruge', 'author', 'describes', 'unverifiable', 'nature', 'two', 'competing', 'etymology', 'theories', 'sufficiently', 'well', 'mislead', 'reader', 'renders', 'opinion', 'two', 'likely', 'clear', 'authors', 'opinion', 'presents', 'reader', 'opportunity', 'accept', 'either', 'neither', 'two'], ['work', 'magic', 'wondring', 'time', 'help', 'wikipediafeatured', 'article', 'candidatesw', 'boisarchive', 'input', 'would', 'appreciated', 'quick', 'scan', 'full', 'review', 'noticed', 'work', 'respect', 'skills', 'thanks'], ['four', 'references', 'including', 'britannica', 'giving', 'correct', 'date', 'getting', 'silly', 'complain', 'edit', 'summary', 'can', 'not', 'find', 'added', 'quotes', 'two', 'help', 'wpsourceaccess', 'happy', 'concede', 'britannica', 'alone', 'mentions', 'date', 'offer', 'without', 'explaining', 'context', 'one', 'sources', 'expanded', 'quote', 'specifically', 'mentioning', 'august', 'russian', 'wikipedia', 'августа', 'силы', 'танкового', 'корпуса', 'армии', 'паулюса', 'вышли', 'волге', 'севернее', 'сталинграда', 'august', 'forces', 'tank', 'corps', 'army', 'paulus', 'reached', 'volga', 'north', 'stalingrad', 'cited', 'war', 'diary', 'colonelgeneral', 'franz', 'haider'], ['use', 'assisted', 'suicide', 'refer', 'aid', 'dying', 'inaccurate', 'fourth', 'distinctive', 'ways', 'first', 'coined', 'catholic', 'activists', 'disputing', 'oregons', 'measure', 'carries', 'political', 'bias', 'second', 'laws', 'oregon', 'washington', 'vermont', 'contain', 'term', 'assisted', 'suicide', 'use', 'aid', 'dying', 'third', 'assisting', 'suicide', 'remains', 'illegal', 'three', 'states', 'also', 'montana', 'new', 'mexico', 'state', 'attorney', 'general', 'county', 'district', 'attorney', 'charged', 'physician', 'pharmacist', 'acted', 'within', 'aid', 'dying', 'laws', 'three', 'states', 'finally', 'describing', 'people', 'use', 'aid', 'dying', 'brittany', 'maynard', 'suicides', 'grossly', 'misrepresents', 'experience', 'devalues', 'lives', 'deaths', 'continued', 'usage', 'biased', 'inaccurate', 'term', 'amended', 'throughout', 'wikipedia'], ['may', 'please', 'stop', 'continue', 'delete', 'edit', 'legitimate', 'talk', 'page', 'comments', 'talkdeepwater', 'horizon', 'oil', 'spill', 'may', 'blocked', 'vandalism', 'shared', 'address', 'make', 'edit', 'consider', 'creating', 'account', 'avoid', 'irrelevant', 'notices'], ['brandonyusoftoropov', 'requested', 'mediation', 'conflict', 'requested', 'mediation', 'conflict', 'willing', 'mediate', 'dispute', 'accept', 'please', 'end', 'email', 'pgunnorg'], ['ridiculous', 'unless', 'good', 'nondisingenuous', 'response', 'would', 'absolutely', 'agree', 'blocking', 'indef', 'outright', 'falsifying', 'sources', 'simply', 'never', 'tolerated'], ['wrote', 'need', 'cite', 'reliable', 'sources', 'assertions', 'far', 'large', 'chemical', 'endothermic', 'storage', 'events', 'think', 'source', 'conclusively', 'estabish', 'either', 'point', 'easy', 'establish', 'points', 'hundreds', 'papers', 'proof', 'limits', 'chemical', 'storage', 'electron', 'bonds', 'well', 'understood', 'energy', 'dense', 'chemicals', 'gasoline', 'store', 'per', 'atom', 'cold', 'fusion', 'reactions', 'often', 'produced', 'far', 'ranging', 'per', 'atom', 'material', 'cell', 'cases', 'chemical', 'fuel', 'reaction', 'chemical', 'ash', 'finishes', 'cell', 'grams', 'inert', 'material', 'produced', 'hundreds', 'megajoules', 'heat', 'much', 'several', 'kilograms', 'gasoline', 'burn', 'cell', 'contents', 'would', 'produce', 'tiny', 'fraction', 'heat', 'fact', 'could', 'burn', 'cell', 'table', 'books', 'room', 'still', 'get', 'much', 'chemical', 'energy', 'therefore', 'chemistry', 'ruled', 'calorimeter', 'measure', 'endothermic', 'event', 'accurately', 'measures', 'exothermic', 'event', 'example', 'calorimeters', 'used', 'studies', 'show', 'endothermic', 'formation', 'pdd', 'beginning', 'experiment', 'since', 'calorimeters', 'shows', 'exothermic', 'excess', 'heat', 'would', 'also', 'show', 'endothermic', 'storage', 'proceeds', 'never', 'done', 'heat', 'balance', 'always', 'zero', 'heat', 'bursts', 'jed', 'rothwell', 'useful', 'information', 'someone', 'keeps', 'erasing', 'please', 'note', 'cal', 'tech', 'lewis', 'false', 'negative', 'pointed', 'noninski', 'miles', 'fleischmann', 'described', 'several', 'papers', 'example', 'one', 'also', 'name', 'julian', 'schwinger', 'see', 'jed', 'rothwell', 'librarian', 'lenrcanrorg'], ['thanks', 'comment', 'wikidefenderness', 'like', 'one', 'usually', 'wikiling', 'wikidefender', 'agree', 'first', 'somewhat', 'innocent', 'doubts', 'really', 'agressive', 'whole', 'matter'], ['might', 'intention', 'recent', 'edit', 'removed', 'content', 'please', 'careful', 'remove', 'content', 'wikipedia', 'without', 'valid', 'reason', 'specify', 'edit', 'summary', 'articles', 'talk', 'page', 'take', 'look', 'welcome', 'page', 'learn', 'contributing', 'encyclopedia', 'thank', 'link', 'edit', 'reverted', 'found', 'link', 'believe', 'edit', 'reverted', 'please', 'contact', 'suggestions'], ['agree', 'issue', 'queston', 'everyday', 'english', 'first', 'amendent', 'refer', 'primarily', 'constitution', 'ambiguous', 'belief', 'remains', 'even', 'fifth', 'amendment', 'ambiguous', 'first', 'amendment', 'even'], ['main', 'towns', 'main', 'know', 'love', 'write', 'one', 'sentence', 'article', 'want', 'please', 'least', 'properly', 'stop', 'saying', 'main', 'town', 'main', 'obscure', 'towns'], ['halliday', 'good', 'see', 'another', 'contributor', 'article', 'sfl', 'thing', 'might', 'consider', 'joining', 'taskforce', 'thanks'], ['stephen', 'barrett', 'board', 'certified', 'viewpoint', 'fact', 'well', 'documented', 'one', 'see', 'wpprominence', 'applies'], ['could', 'precis', 'material', 'instead', 'downloading', 'whole', 'lot', 'stuff', 'somewhere', 'else', 'internet', 'one', 'editor', 'feel', 'material', 'provided', 'could', 'cut', 'fit', 'format', 'article', 'info', 'could', 'provided', 'seperate', 'wikipedia', 'article', 'necessary'], ['cloud', 'feedback', 'cloud', 'feedback', 'positive', 'feedbacks', 'paper', 'states', 'ipcc', 'states', 'likely', 'positive', 'negative', 'feedback', 'change'], ['avg', 'plenty', 'greeks', 'love', 'king', 'stop', 'acting', 'like', 'greeks', 'hate', 'parrot', 'government', 'tells', 'via', 'media', 'greeks', 'asked', 'george', 'king', 'supported', 'reclaimed', 'much', 'lands', 'voted', 'keep', 'numerous', 'times', 'vote', 'also', 'tried', 'overthrow', 'dictators', 'read', 'book', 'greek', 'government', 'biggest', 'liars', 'want', 'king', 'claim', 'constantinopleasia', 'minor', 'direct', 'descendant', 'five', 'greek', 'imperial', 'byzantine', 'dynasties', 'monomachos', 'comnenos', 'laskaris', 'angelos', 'paleologos'], ['redirect', 'discussion', 'page', 'please', 'leave', 'article', 'related', 'discussion', 'please', 'articles', 'discussion', 'page'], ['second', 'issue', 'thinking', 'need', 'taxonomy', 'section', 'things', 'really', 'clear', 'maybe', 'could', 'iswhat', 'specific', 'findings', 'fossils', 'places', 'narmadensis', 'subfamily', 'carnotaurinae', 'princely', 'lizard', 'narmada', 'significant', 'prowess', 'narmadensis', 'anything', 'precise', 'taxonomy', 'would', 'great', 'add'], ['redirects', 'torein', 'torein', 'torein', 'torein', 'toreintorein', 'toreintorein', 'toreintorein', 'torein', 'torein', 'torein', 'torein', 'train', 'train', 'train', 'train', 'torein—torein', 'train—train', 'torein–torein', 'train–train', 'redirect'], ['another', 'priceless', 'gem', 'demonstrating', 'general', 'cluelessness', 'fuse', 'rating', 'therefore', 'plug', 'rating', 'case', 'nonrewireable', 'plug', 'determined', 'cable', 'attached', 'appliance', 'used', 'earth', 'dig', 'nonsense', 'plenty', 'good', 'examples', 'around', 'medium', 'large', 'switch', 'mode', 'power', 'supplies', 'often', 'supplied', 'nominally', 'amp', 'cable', 'moulded', 'plug', 'many', 'iec', 'type', 'plug', 'rated', 'standard', 'amps', 'according', 'plug', 'therefore', 'fitted', 'amp', 'fuse', 'determined', 'cable', 'would', 'never', 'get', 'smallest', 'power', 'supplies', 'running', 'fit', 'amp', 'fuse', 'large', 'amp', 'momentary', 'inrush', 'current', 'lasts', 'long', 'enough', 'blow', 'amp', 'fuse', 'cable', 'plug', 'retain', 'original', 'ratings', 'inrush', 'current', 'harm', 'rating', 'fuse', 'determined', 'much', 'much', 'cable', 'size', 'alone', 'indeed', 'type', 'power', 'supply', 'built', 'plug', 'usually', 'fuse'], ['bizarre', 'ani', 'medjools', 'abuse', 'wikipedia', 'rules', 'gets', 'rewarded', 'awards', 'barnstar', 'wtf', 'anyhow', 'new', 'person', 'adept', 'ridicule', 'joined', 'conversation', 'falafel', 'sigh'], ['firstly', 'still', 'making', 'undiffable', 'edits', 'refusing', 'use', 'edit', 'summaries', 'becoming', 'behavioural', 'issue', 'need', 'escalated', 'stop', 'gun', 'really', 'understand', 'find', 'hard', 'follow', 'basic', 'standards', 'behaviour', 'required', 'edit', 'collaborative', 'environment', 'secondly', 'announcing', 'changes', 'someones', 'talk', 'page', 'really', 'count', 'discussing', 'collaboratively', 'rather', 'means', 'discussed', 'furthermore', 'told', 'npov', 'noticeboard', 'raise', 'state', 'university', 'university', 'issue', 'wanted', 'discuss', 'issue', 'failed', 'removed', 'disputed', 'tag', 'article', 'without', 'result', 'suggested', 'waiting', 'later', 'made', 'yet', 'another', 'diff', 'contained', 'large', 'number', 'unknown', 'unknowable', 'undisucssed', 'changes', 'article'], ['name', 'introductory', 'paragraph', 'always', 'told', 'using', 'phd', 'name', 'incorrect', 'phd', 'automatically', 'conferred', 'status', 'doctor', 'however', 'sure', 'case', 'since', 'wellknown', 'martin', 'luther', 'king', 'normal', 'approach', 'dropping', 'keeping', 'phd', 'seem', 'best', 'answer', 'even', 'though', 'one', 'style', 'guides', 'seem', 'endorse', 'would', 'someone', 'intimately', 'familliar', 'article', 'like', 'take', 'swing', 'changing', 'suggesting', 'alternative'], ['mrpainkiller', 'neurophyte', 'jeanphilippe', 'complaint', 'intervention', 'vandalism', 'protected', 'article', 'vampirefreakscom', 'either', 'block', 'disruption', 'personal', 'attacks', 'unprotect', 'article', 'morning', 'meantime', 'please', 'consider', 'following', 'reverting', 'another', 'users', 'talk', 'page', 'pretty', 'rude', 'policy', 'conflict', 'user', 'talk', 'page', 'policy', 'says', 'users', 'blank', 'archive', 'warnings', 'although', 'archiving', 'preferred', 'community', 'vandalism', 'policy', 'says', 'removing', 'warnings', 'given', 'vandalism', 'agree', 'vandalism', 'point', 'view', 'seen', 'lot', 'support', 'lately', 'except', 'among', 'people', 'fighting', 'amongst', 'reasons', 'someone', 'deletes', 'warning', 'obviously', 'seen', 'concerned', 'someones', 'edits', 'use', 'verbose', 'edit', 'summary', 'even', 'warning', 'removed', 'edit', 'summary', 'visible', 'understand', 'view', 'among', 'two', 'mrpainkiller', 'edits', 'detrimental', 'article', 'lots', 'right', 'ways', 'deal', 'including', 'editing', 'consensus', 'request', 'comment', 'article', 'user', 'mediation', 'third', 'opinion', 'going', 'judge', 'content', 'fighting', 'wherever', 'occurs', 'wrong', 'way', 'deal', 'problem', 'personal', 'attacks', 'tolerated', 'please', 'deal', 'content', 'edits', 'character', 'leaving', 'message', 'keep', 'fighting', 'talk', 'pages', 'suppose', 'another', 'admin', 'eventually', 'figure', 'time', 'block', 'someone', 'unless', 'positive', 'right', 'guy', 'wrong', 'probably', 'try', 'work', 'peacefully', 'case', 'admins', 'see', 'things', 'way'], ['irtgyrehgui', 'iryggoifhgo', 'oerygtjeiygut', 'gopfe', 'gig', 'fjhg', 'tyr', 'hygb', 'hruegfigust', 'retugrijtrir', 'jtgnkjryt', 'jgoidug', 'jgiufd', 'teurjg', 'etujoijfgiosdug', 'ojtg', 'reuyjurfi', 'ygoip', 'tgeoiu', 'ypw', 'urtg', 'hui', 'mftmuv', 'tny', 'uvg', 'ytihguihfdkjvhu', 'krngkfdjs', 'hgkjfghoeruygrhy', 'goh'], ['black', 'mamba', 'itis', 'ponious', 'snake', 'word', 'kills', 'many', 'people', 'king', 'cobra', 'kills', 'many', 'people', 'india'], ['looks', 'like', 'old', 'issue', 'took', 'liberty', 'removing', 'see', 'difference', 'nonspaced', 'version', 'spaced', 'version', 'spaced', 'version', 'makes', 'intro', 'look', 'strange'], ['revamped', 'wpfart', 'thought', 'little', 'housekeeping', 'would', 'give', 'street', 'cred'], ['trying', 'whinger', 'hand', 'waver', 'annoys', 'entire', 'section', 'devoted', 'left', 'right', 'politics', 'yet', 'nothing', 'similar', 'regarding', 'rest', 'world', 'bias', 'wikipedia', 'irritating', 'sometimes', 'though', 'internet', 'users', 'words', 'whiny', 'european', 'lazy', 'write', 'non', 'section', 'thats', 'easy', 'fix', 'start', 'writing', 'nonus', 'views', 'topics', 'creating', 'topics', 'getting', 'friends', 'help', 'something', 'created', 'users', 'called', 'biased', 'reflects', 'predominant', 'users', 'posting', 'thus', 'easily', 'remedied', 'also', 'easy', 'fix', 'throughout', 'wikipedia', 'see', 'entries', 'obviously', 'american', 'authors', 'concept', 'world', 'view', 'automatically', 'write', 'perspective', 'without', 'attempt', 'qualify', 'language', 'therefore', 'tends', 'happen', 'view', 'becomes', 'default', 'international', 'views', 'living', 'ghettoized', 'paragraphs', 'also', 'actually', 'kind', 'problem', 'wikipedia', 'around', 'first', 'place', 'popular', 'ideas', 'necessarily', 'correct', 'people', 'posting', 'information', 'corruptibility', 'whatever', 'organization', 'organization', 'people', 'change', 'entry', 'next', 'day', '—preceding', 'unsigned', 'comment', 'added', 'entire', 'dicussion', 'lends', 'great', 'deal', 'credibilty', 'idea', 'leftright', 'spectrum', 'poorly', 'represents', 'political', 'economic', 'views', 'seems', 'debate', 'equivalent', 'attempting', 'define', 'square', 'root', 'negative', 'real', 'numbers', 'disposal', 'painfully', 'obvious', 'politics', 'mulidimensional', 'hoped', 'describe', 'leftright', 'spectrum', 'used', 'leave', 'probably', 'short', 'article', '—preceding', 'unsigned', 'comment', 'added', 'better', 'chart', 'think', 'page', 'needs', 'metter', 'chart', 'like', 'one', 'edit', 'actually', 'think', 'article', 'fact', 'whole', 'political', 'movement', 'needs', 'better', 'definition', 'leftright', 'political', 'parties', 'can', 'not', 'adhere', 'single', 'category', 'including', 'revolutionnary', 'movements', 'farright', 'groups', 'described', 'somewhere', 'else', 'discussion', 'suggest', 'new', 'use', 'leftright', 'compass', 'political', 'compass', 'uses', 'square', 'system', 'two', 'axis', 'social', 'économic', 'accurate', 'know', 'political', 'ideas', 'tend', 'pretty', 'nearer', 'mussolini', 'gandhi', 'whatever', 'suggest', 'cube', 'axis', 'économic', 'social', 'politic', 'first', 'one', 'defines', 'market', 'system', 'political', 'group', 'second', 'defines', 'social', 'standing', 'political', 'group', 'welfare', 'people', 'welfare', 'checkscharity', 'privatepublic', 'schoolmedical', 'system', 'etc', 'thirds', 'one', 'basically', 'way', 'society', 'treats', 'people', 'rehabilitationpunishment', 'democracytotaliratism', 'include', 'soviet', 'communism', 'etc', 'think', '—preceding', 'unsigned', 'comment', 'added', 'interesting', 'book', 'came', 'across', 'book', 'left', 'right', 'global', 'politics', 'alain', 'noël', 'jeanphilippe', 'thérien', 'read', 'yet', 'seems', 'great', 'interest', 'removing', 'unneccessary', 'detail', 'removing', 'several', 'paragraphs', 'unhelpful', 'article', 'edmund', 'burke', 'terms', 'left', 'right', 'used', 'adam', 'smith', 'terms', 'left'], ['dont', 'feed', 'troll', 'responding', 'taunting', 'exactly', 'wrong', 'way', 'respond', 'dont', 'feed', 'troll', 'remove', 'post', 'without', 'comment', 'anything'], ['please', 'accept', 'apologies', 'interpreted', 'statement', 'find', 'quote', 'move', 'care', 'mean', 'thought', 'source', 'could', 'removed', 'instead', 'finding', 'quote', 'mistake']]\n"
     ]
    }
   ],
   "source": [
    "from nltk.tokenize import word_tokenize\n",
    "tokenized_sents = [word_tokenize(i) for i in no_stopwords[\"text\"]]\n",
    "print(tokenized_sents)"
   ]
  },
  {
   "cell_type": "code",
   "execution_count": 266,
   "metadata": {},
   "outputs": [
    {
     "name": "stdout",
     "output_type": "stream",
     "text": [
      "['arabs', 'committing', 'genocide', 'iraq', 'protests', 'europe', 'may', 'europe', 'also', 'burn', 'hell', 'dare', 'vandalize', 'page', 'hms', 'beagle', 'dont', 'vandalize', 'demon', 'eek', 'shes', 'cute', 'earthy', 'kind', 'way', 'cant', 'sing', 'shit', 'though', 'thanks', 'giving', 'unhappy', 'memory', 'well', 'sucks', 'university', 'nicknameless', 'first', 'time', 'ncaa', 'history', 'happened', 'hate', 'america', 'going', 'bomb', 'shit', 'cities', 'quezas', 'rain', 'moi', 'ego', 'mortified', 'could', 'say', 'thing', 'poor', 'old', 'mona', 'always', 'thiught', 'miserable', 'looking', 'woman', 'probably', 'hormonal', 'tenth', 'anniversary', 'new', 'york', 'times', 'columnist', 'paul', 'krugman', 'delivered', 'odious', 'piece', 'dribble', 'ever', 'attack', 'well', 'least', 'since', 'last', 'time', 'wrote', 'headline', 'quote', 'years', 'shame', 'end', 'quote', 'directed', 'radical', 'islam', 'instead', 'targets', 'america', 'quote', 'fake', 'heroes', 'krugman', 'claims', 'atrocity', 'hijacked', 'sick', 'word', 'given', 'actually', 'talking', 'real', 'hijackers', 'killed', 'americans', 'referring', 'people', 'like', 'george', 'bush', 'rudy', 'giuliani', 'thinks', 'capitalized', 'horrible', 'crimes', 'worst', 'part', 'end', 'column', 'creep', 'writes', 'going', 'allow', 'comments', 'post', 'obvious', 'reasons', 'obvious', 'reason', 'coward', 'mean', 'else', 'would', 'ban', 'responses', 'hes', 'like', 'yearold', 'boy', 'crankcalling', 'hang', 'even', 'hears', 'response', 'hearing', 'shame', 'wickedness', 'watch', 'memorial', 'services', 'feel', 'sorrow', 'families', 'whose', 'grief', 'never', 'really', 'ends', 'since', 'lousy', 'emotional', 'reflection', 'usually', 'avoid', 'least', 'summarize', 'many', 'feel', 'today', 'nine', 'words', 'hell', 'paul', 'krugman', 'bearded', 'bitter', 'buffoon', 'random', 'deletion', 'deleted', 'xanax', 'bars', 'fuck', 'mah', 'nigga', 'fuck', 'wit', 'good', 'links', 'section', 'drunk', 'made', 'gibson', 'say', 'really', 'believes', 'little', 'freak', 'nazi', 'like', 'father', 'hope', 'dies', 'lung', 'cancer', 'soon', 'warning', 'first', 'warning', 'stop', 'gay', 'raped', 'ass', 'indefinitely', 'without', 'notice', 'maybe', 'one', 'days', 'cool', 'random', 'quote', 'way', 'like', 'fucking', 'breeders', 'fuck', 'sex', 'true', 'truth', 'balls', 'official', 'status', 'principality', 'monaco', 'stupid', 'warm', 'musky', 'regards', 'serene', 'highness', 'prince', 'scruffy', 'musky', 'coinpurse', 'hes', 'show', 'whihc', 'cheap', 'copy', 'ragu', 'romeo', 'show', 'hes', 'popular', 'stupid', 'people', 'auditions', 'watch', 'gutter', 'show', 'willeys', 'male', 'willey', 'likley', 'gay', 'lol', 'fucking', 'braindead', 'oroszka', 'syrian', 'government', 'sunni', 'including', 'first', 'lady', 'army', 'hate', 'eagles', 'since', 'made', 'comment', 'every', 'action', 'undertake', 'somebody', 'fucking', 'ass', 'thinking', 'trip', 'ani', 'would', 'productive', 'thoughts', 'cause', 'devil', 'evil', 'mind', 'penis', 'materialscientists', 'birth', 'place', 'cite', 'policies', 'wasting', 'fucking', 'time', 'cite', 'policy', 'shall', 'strike', 'bastards', 'better', 'good', 'fucking', 'idea', 'complaint', 'say', 'wasting', 'goddamn', 'time', 'opinions', 'worthless', 'matters', 'policies', 'guidelines', 'sources', 'give', 'pile', 'steaming', 'dogshit', 'manners', 'sounding', 'nonsense', 'bullshit', 'understanding', 'community', 'mores', 'whole', 'fuck', 'lot', 'ruder', 'opinion', 'jesus', 'christ', 'stop', 'politetrolling', 'learn', 'fucking', 'rules', 'wikipedias', 'rulessimplecomplex', 'court', 'shit', 'cause', 'judge', 'look', 'like', 'motherfucker', 'put', 'ass', 'boat', 'made', 'nigga', 'outro', 'mamma', 'rag', 'nigga', 'durag', 'nigga', 'ballistics', 'nigga', 'urethas', 'nigga', 'nigga', 'users', 'like', 'make', 'wikipedia', 'shithole', 'youre', 'fucker', 'get', 'life', 'could', 'vandalize', 'want', 'dare', 'earse', 'agoian', 'change', 'name', 'fuckboti', 'kill', 'cut', 'corpse', 'hell', 'ill', 'chop', 'mama', 'daddy', 'baldheaded', 'granny', 'mama', 'fat', 'need', 'map', 'get', 'around', 'fat', 'relations', 'shamu', 'come', 'fucker', 'worst', 'users', 'like', 'make', 'wikipedia', 'shithole', 'youre', 'fucker', 'get', 'life', 'could', 'vandalize', 'want', 'dare', 'earse', 'agoian', 'change', 'name', 'fuckboti', 'kill', 'cut', 'corpse', 'hell', 'ill', 'chop', 'mama', 'daddy', 'baldheaded', 'granny', 'mama', 'fat', 'need', 'map', 'get', 'around', 'fat', 'relations', 'shamu', 'come', 'fucker', 'worst', 'doit', 'users', 'like', 'make', 'wikipedia', 'shithole', 'youre', 'fucker', 'get', 'life', 'could', 'vandalize', 'want', 'dare', 'earse', 'agoian', 'change', 'name', 'fuckboti', 'kill', 'cut', 'corpse', 'hell', 'ill', 'chop', 'mama', 'daddy', 'baldheaded', 'granny', 'mama', 'fat', 'need', 'map', 'get', 'around', 'fat', 'relations', 'shamu', 'come', 'fucker', 'worst', 'doit', 'users', 'like', 'make', 'wikipedia', 'shithole', 'youre', 'fucker', 'get', 'life', 'could', 'vandalize', 'want', 'dare', 'earse', 'agoian', 'change', 'name', 'fuckboti', 'kill', 'cut', 'corpse', 'hell', 'ill', 'chop', 'mama', 'daddy', 'baldheaded', 'granny', 'mama', 'fat', 'need', 'map', 'get', 'around', 'fat', 'relations', 'shamu', 'come', 'fucker', 'worst', 'doit', 'users', 'like', 'make', 'wikipedia', 'shithole', 'youre', 'fucker', 'get', 'life', 'could', 'vandalize', 'want', 'dare', 'earse', 'agoian', 'change', 'name', 'fuckboti', 'kill', 'cut', 'corpse', 'hell', 'ill', 'chop', 'mama', 'daddy', 'baldheaded', 'granny', 'mama', 'fat', 'need', 'map', 'get', 'around', 'fat', 'relations', 'shamu', 'come', 'fucker', 'worst', 'doit', 'users', 'like', 'make', 'wikipedia', 'shithole', 'youre', 'fucker', 'get', 'life', 'could', 'vandalize', 'want', 'dare', 'earse', 'agoian', 'change', 'name', 'fuckboti', 'kill', 'cut', 'corpse', 'hell', 'ill', 'chop', 'mama', 'daddy', 'baldheaded', 'granny', 'mama', 'fat', 'need', 'map', 'get', 'around', 'fat', 'relations', 'shamu', 'come', 'fucker', 'worst', 'doit', 'users', 'like', 'make', 'wikipedia', 'shithole', 'youre', 'fucker', 'get', 'life', 'could', 'vandalize', 'want', 'dare', 'earse', 'agoian', 'change', 'name', 'fuckboti', 'kill', 'cut', 'corpse', 'hell', 'ill', 'chop', 'mama', 'daddy', 'baldheaded', 'granny', 'mama', 'fat', 'need', 'map', 'get', 'around', 'fat', 'relations', 'shamu', 'come', 'fucker', 'worst', 'doit', 'users', 'like', 'make', 'wikipedia', 'shithole', 'youre', 'fucker', 'get', 'life', 'could', 'vandalize', 'want', 'dare', 'earse', 'agoian', 'change', 'name', 'fuckboti', 'kill', 'cut', 'corpse', 'hell', 'ill', 'chop', 'mama', 'daddy', 'baldheaded', 'granny', 'mama', 'fat', 'need', 'map', 'get', 'around', 'fat', 'relations', 'shamu', 'come', 'fucker', 'worst', 'doit', 'users', 'like', 'make', 'wikipedia', 'shithole', 'youre', 'fucker', 'get', 'life', 'could', 'vandalize', 'want', 'dare', 'earse', 'agoian', 'change', 'name', 'fuckboti', 'kill', 'cut', 'corpse', 'hell', 'ill', 'chop', 'mama', 'daddy', 'baldheaded', 'granny', 'mama', 'fat', 'need', 'map', 'get', 'around', 'fat', 'relations', 'shamu', 'come', 'fucker', 'worst', 'doit', 'users', 'like', 'make', 'wikipedia', 'shithole', 'youre', 'fucker', 'get', 'life', 'could', 'vandalize', 'want', 'dare', 'earse', 'agoian', 'change', 'name', 'fuckboti', 'kill', 'cut', 'corpse', 'hell', 'ill', 'chop', 'mama', 'daddy', 'baldheaded', 'granny', 'mama', 'fat', 'need', 'map', 'get', 'around', 'fat', 'relations', 'shamu', 'come', 'fucker', 'worst', 'doit', 'users', 'like', 'make', 'wikipedia', 'shithole', 'youre', 'fucker', 'get', 'life', 'could', 'vandalize', 'want', 'dare', 'earse', 'agoian', 'change', 'name', 'fuckboti', 'kill', 'cut', 'corpse', 'hell', 'ill', 'chop', 'mama', 'daddy', 'baldheaded', 'granny', 'mama', 'fat', 'need', 'map', 'get', 'around', 'fat', 'relations', 'shamu', 'come', 'fucker', 'worst', 'doit', 'users', 'like', 'make', 'wikipedia', 'shithole', 'youre', 'whole', 'doormatt', 'joke', 'funky', 'fuck', 'wrote', 'anoymous', 'bunch', 'cunts', 'scared', 'show', 'selves', 'real', 'world', 'wat', 'heck', 'hell', 'wrong', 'next', 'time', 'vandalize', 'page', 'going', 'fayetteville', 'arkansas', 'beating', 'crap', 'overall', 'aim', 'project', 'worth', 'putting', 'sometimes', 'personal', 'learning', 'involved', 'topic', 'research', 'worthwhile', 'goal', 'otherwise', 'reason', 'put', 'shit', 'wish', 'usually', 'onerous', 'even', 'idiocy', 'painful', 'required', 'make', 'show', 'civil', 'fools', 'respect', 'omg', 'text', 'site', 'edit', 'lolololol', 'wat', 'thinkone', 'night', 'lead', 'toyeah', 'shove', 'cock', 'inup', 'vigina', 'says', 'ruthiemackenzie', 'someone', 'edited', 'aka', 'know', 'shouldnt', 'typing', 'stuff', 'like', 'wiki', 'really', 'fun', 'like', 'bitch', 'makenzie', 'really', 'mother', 'year', 'old', 'daughter', 'slut', 'sexuall', 'intercoarse', 'omg', 'omg', 'omg', 'fuck', 'going', 'getting', 'preety', 'late', 'think', 'going', 'bed', 'thank', 'goooooood', 'night', 'think', 'husband', 'comiing', 'sees', 'typing', 'wouldnt', 'want', 'anyway', 'nothing', 'darn', 'actress', 'btw', 'self', 'obseesssed', 'whore', 'yeahhhhhhhhhh', 'baby', 'kids', 'dont', 'sex', 'till', 'married', 'cause', 'sex', 'turned', 'dont', 'even', 'try', 'condom', 'unlike', 'mackenzie', 'roman', 'virgin', 'acturely', 'beutiful', 'thingwell', 'sexim', 'acturely', 'married', 'children', 'probably', 'think', 'bull', 'anyway', 'nows', 'might', 'man', 'lol', 'question', 'belive', 'belive', 'btw', 'exact', 'personthat', 'someone', 'edited', 'aka', 'foolish', 'nonsense', 'never', 'something', 'stretched', 'point', 'communicating', 'friends', 'friends', 'people', 'side', 'earth', 'quite', 'pathetic', 'actually', 'calton', 'inconsiderable', 'selfish', 'beast', 'fuck', 'like', 'angelique', 'carrington', 'tamara', 'harringtonfuck', 'asshole', 'ryan', 'boe', 'queer', 'truth', 'hes', 'big', 'gay', 'bag', 'threatening', 'block', 'reason', 'fucking', 'bitch', 'utterly', 'utterly', 'tiny', 'insignificant', 'anal', 'retentive', 'thing', 'later', 'learned', 'dan', 'marino', 'kidnap', 'join', 'snowflake', 'missed', 'ped', 'end', 'kidnap', 'think', 'origin', 'sagging', 'roots', 'human', 'stupidity', 'limits', 'ruined', 'moron', 'ruined', 'page', 'trash', 'unusable', 'revert', 'immeadeatly', 'dudeget', 'fucking', 'clue', 'goth', 'dressing', 'black', 'shitu', 'hail', 'satian', 'sort', 'shit', 'emo', 'emo', 'sit', 'room', 'day', 'staring', 'ceiling', 'wondering', 'anyone', 'would', 'really', 'care', 'fell', 'killing', 'instantlyi', 'knowemo', 'self', 'harm', 'cutting', 'etcwanting', 'diejust', 'like', 'stop', 'ass', 'seems', 'german', 'love', 'german', 'magazine', 'thats', 'great', 'one', 'magazine', 'times', 'rest', 'world', 'times', 'dont', 'try', 'suggest', 'magazines', 'times', 'important', 'rest', 'world', 'doesnt', 'really', 'care', 'magazine', 'care', 'times', 'sex', 'change', 'expert', 'oxy', 'morons', 'almost', 'everyone', 'working', 'field', 'going', 'hacks', 'either', 'side', 'jerk', 'write', 'huge', 'jerk', 'banned', 'yet', 'homophobic', 'mexican', 'arsehole', 'created', 'page', 'released', 'stupid', 'pop', 'song', 'flood', 'stupid', 'edits', 'commenced', 'seems', 'mtv', 'crowd', 'enjoys', 'vandalizing', 'page', 'try', 'keep', 'though', 'removed', 'frogs', 'penis', 'caption', 'real', 'name', 'raumskulptur', 'translates', 'spacial', 'sculpture', 'shall', 'take', 'snap', 'sign', 'next', 'time', 'campus', 'pink', 'bicycle', 'mounted', 'pole', 'nort', 'sculpture', 'wtf', 'whoever', 'removed', 'great', 'images', 'shot', 'dead', 'corpse', 'raped', 'one', 'nice', 'made', 'backround', 'serious', 'seriously', 'purpose', 'flagging', 'article', 'deletion', 'serve', 'fag', 'maybe', 'ashamed', 'enjoying', 'looking', 'picture', 'want', 'ashamed', 'pedo', 'someone', 'please', 'edit', 'line', 'lebanon', 'operation', 'army', 'center', 'military', 'history', 'contingency', 'operations', 'fckin', 'stupid', 'hoee', 'end', 'article', 'thank', 'done', 'bit', 'reading', 'turns', 'fact', 'idiot', 'thank', 'nice', 'fuck', 'fuck', 'fuck', 'fuck', 'fuck', 'fuck', 'fuck', 'fuck', 'fuck', 'fuck', 'fuck', 'fuck', 'fuck', 'fuck', 'fuck', 'fuck', 'fuck', 'fuck', 'fuck', 'fuck', 'fuck', 'fuck', 'fuck', 'fuck', 'fuck', 'fuck', 'fuck', 'fuck', 'fuck', 'fuck', 'fuck', 'fuck', 'fuck', 'fuck', 'fuck', 'fuck', 'fuck', 'fuck', 'fuck', 'fuck', 'fuck', 'fuck', 'fuck', 'fuck', 'fuck', 'fuck', 'fuck', 'fuck', 'fuck', 'fuck', 'fuck', 'fuck', 'fuck', 'fuck', 'fuck', 'fuck', 'fuck', 'fuck', 'fuck', 'fuck', 'fuck', 'fuck', 'fuck', 'fuck', 'fuck', 'fuck', 'fuck', 'fuck', 'fuck', 'fuck', 'fuck', 'fuck', 'fuck', 'fuck', 'fuck', 'fuck', 'fuck', 'fuck', 'fuck', 'fuck', 'fuck', 'fuck', 'fuck', 'fuck', 'fuck', 'fuck', 'fuck', 'fuck', 'fuck', 'fuck', 'fuck', 'fuck', 'fuck', 'fuck', 'fuck', 'fuck', 'fuck', 'fuck', 'fuck', 'fuck', 'fuck', 'fuck', 'fuck', 'fuck', 'fuck', 'fuck', 'fuck', 'fuck', 'fuck', 'fuck', 'fuck', 'fuck', 'fuck', 'fuck', 'fuck', 'fuck', 'fuck', 'fuck', 'fuck', 'fuck', 'fuck', 'fuck', 'fuck', 'fuck', 'fuck', 'fuck', 'fuck', 'fuck', 'fuck', 'fuck', 'fuck', 'fuck', 'fuck', 'fuck', 'fuck', 'fuck', 'fuck', 'fuck', 'fuck', 'fuck', 'fuck', 'fuck', 'fuck', 'fuck', 'fuck', 'fuck', 'fuck', 'fuck', 'fuck', 'fuck', 'fuck', 'fuck', 'fuck', 'fuck', 'fuck', 'fuck', 'fuck', 'fuck', 'fuck', 'fuck', 'fuck', 'fuck', 'fuck', 'fuck', 'fuck', 'fuck', 'fuck', 'fuck', 'fuck', 'fuck', 'fuck', 'fuck', 'fuck', 'fuck', 'fuck', 'fuck', 'fuck', 'fuck', 'fuck', 'fuck', 'fuck', 'fuck', 'fuck', 'fuck', 'fuck', 'fuck', 'fuck', 'fuck', 'fuck', 'fuck', 'fuck', 'fuck', 'fuck', 'fuck', 'fuck', 'fuck', 'fuck', 'fuck', 'fuck', 'fuck', 'fuck', 'fuck', 'fuck', 'fuck', 'fuck', 'fuck', 'fuck', 'fuck', 'fuck', 'fuck', 'fuck', 'fuck', 'fuck', 'fuck', 'fuck', 'fuck', 'fuck', 'fuck', 'fuck', 'fuck', 'fuck', 'fuck', 'fuck', 'fuck', 'fuck', 'fuck', 'fuck', 'fuck', 'fuck', 'fuck', 'fuck', 'fuck', 'fuck', 'fuck', 'fuck', 'fuck', 'fuck', 'fuck', 'fuck', 'fuck', 'fuck', 'fuck', 'fuck', 'fuck', 'fuck', 'fuck', 'fuck', 'fuck', 'fuck', 'fuck', 'fuck', 'fuck', 'fuck', 'fuck', 'fuck', 'fuck', 'fuck', 'fuck', 'fuck', 'fuck', 'fuck', 'fuck', 'fuck', 'fuck', 'fuck', 'fuck', 'fuck', 'fuck', 'fuck', 'fuck', 'fuck', 'fuck', 'fuck', 'fuck', 'fuck', 'fuck', 'fuck', 'fuck', 'fuck', 'fuck', 'fuck', 'fuck', 'fuck', 'fuck', 'fuck', 'fuck', 'fuck', 'fuck', 'fuck', 'fuck', 'fuck', 'fuck', 'fuck', 'fuck', 'fuck', 'fuck', 'fuck', 'fuck', 'fuck', 'fuck', 'fuck', 'fuck', 'fuck', 'fuck', 'fuck', 'fuck', 'fuck', 'fuck', 'fuck', 'fuck', 'fuck', 'fuck', 'fuck', 'fuck', 'fuck', 'fuck', 'fuck', 'fuck', 'fuck', 'fuck', 'fuck', 'fuck', 'fuck', 'fuck', 'fuck', 'fuck', 'fuck', 'fuck', 'fuck', 'fuck', 'fuck', 'fuck', 'fuck', 'fuck', 'fuck', 'fuck', 'fuck', 'fuck', 'fuck', 'fuck', 'fuck', 'fuck', 'fuck', 'fuck', 'fuck', 'fuck', 'fuck', 'fuck', 'fuck', 'fuck', 'fuck', 'fuck', 'fuck', 'fuck', 'fuck', 'fuck', 'fuck', 'fuck', 'fuck', 'fuck', 'fuck', 'fuck', 'fuck', 'fuck', 'fuck', 'fuck', 'fuck', 'fuck', 'fuck', 'fuck', 'fuck', 'fuck', 'fuck', 'fuck', 'fuck', 'fuck', 'fuck', 'fuck', 'fuck', 'fuck', 'fuck', 'fuck', 'fuck', 'fuck', 'fuck', 'fuck', 'fuck', 'fuck', 'fuck', 'fuck', 'fuck', 'fuck', 'fuck', 'fuck', 'fuck', 'fuck', 'fuck', 'fuck', 'fuck', 'fuck', 'azerbaijanis', 'proud', 'ramil', 'safarov', 'opportunity', 'circumstances', 'would', 'kill', 'bastard', 'mother', 'fucker', 'armenians', 'bitches', 'soldiers', 'insulting', 'azerbaijani', 'flag', 'bastard', 'gurgen', 'lay', 'hell', 'mother', 'fucker', 'fuck', 'soul', 'whore', 'mother', 'assholes', 'fuck', 'armenian', 'fascists', 'natinoalists', 'might', 'dicks', 'trying', 'look', 'serious', 'talking', 'two', 'girls', 'shitting', 'cup', 'eating', 'chocolate', 'djmasacre', 'heck', 'sockpuppet', 'happens', 'wikipedia', 'really', 'pathetic', 'much', 'finding', 'information', 'filled', 'garbage', 'yeah', 'right', 'dude', 'fucking', 'shall', 'give', 'links', 'look', 'prove', 'real', 'damn', 'real', 'kurt', 'angle', 'shut', 'youre', 'silly', 'change', 'episode', 'numbers', 'whenever', 'bussiness', 'god', 'going', 'give', 'right', 'stupid', 'season', 'episodes', 'regular', 'episodes', 'understand', 'youre', 'wrong', 'one', 'tries', 'change', 'episode', 'numbers', 'wont', 'like', 'want', 'play', 'well', 'play', 'together', 'swear', 'wikipedia', 'ill', 'tell', 'administrator', 'selfish', 'possible', 'write', 'desperate', 'housewives', 'page', 'members', 'agree', 'episodes', 'season', 'something', 'sure', 'end', 'days', 'wikipedia', 'stop', 'adam', 'stop', 'adam', 'stop', 'adam', 'thank', 'understanding', 'think', 'highly', 'would', 'revert', 'without', 'discussion', 'somebody', 'invariably', 'try', 'add', 'religion', 'really', 'mean', 'way', 'people', 'invariably', 'kept', 'adding', 'religion', 'samuel', 'beckett', 'infobox', 'bother', 'bringing', 'longdead', 'completely', 'nonexistent', 'influences', 'issue', 'youre', 'flailing', 'making', 'crap', 'fly', 'comparison', 'explicit', 'acknowledgement', 'entire', 'amos', 'article', 'personally', 'jewish', 'categories', 'says', 'right', 'type', 'type', 'institution', 'needed', 'case', 'three', 'levels', 'suny', 'schools', 'university', 'centers', 'doctoral', 'granting', 'institutions', 'state', 'colleges', 'community', 'colleges', 'needed', 'case', 'clarify', 'suny', 'center', 'says', 'even', 'binghamton', 'university', 'university', 'albany', 'state', 'university', 'new', 'york', 'stony', 'brook', 'university', 'stop', 'trying', 'say', 'totally', 'right', 'case', 'adding', 'new', 'product', 'list', 'make', 'sure', 'relevant', 'adding', 'new', 'product', 'list', 'make', 'sure', 'wikipedia', 'entry', 'already', 'proving', 'relevance', 'giving', 'reader', 'possibility', 'read', 'otherwise', 'could', 'subject', 'deletion', 'see', 'articles', 'revision', 'history', 'reason', 'banning', 'throwing', 'article', 'needs', 'section', 'throwing', 'banned', 'moment', 'noncricket', 'fan', 'seems', 'kind', 'arbitrary', 'please', 'stop', 'continue', 'vandalize', 'wikipedia', 'homosexuality', 'blocked', 'editing', 'energy', 'edited', 'introduction', 'previously', 'said', 'passive', 'transport', 'use', 'kind', 'energy', 'true', 'passive', 'transport', 'relies', 'kinetic', 'energy', 'substance', 'transported', 'kinetic', 'energy', 'causes', 'move', 'around', 'random', 'chance', 'cross', 'membrane', 'difference', 'active', 'transport', 'actually', 'uses', 'cells', 'energy', 'atp', 'electrochemical', 'gradient', 'pump', 'substance', 'across', 'membrane', 'cut', 'short', 'sources', 'stating', 'rok', 'sovereign', 'post', 'otherwise', 'please', 'aknowledge', 'place', 'make', 'jews', 'race', 'get', 'mother', 'mention', 'ethiopian', 'jews', 'testing', 'jews', 'proves', 'well', 'fact', 'accept', 'converts', 'ollie', 'others', 'think', 'one', 'list', 'oldest', 'people', 'know', 'long', 'easy', 'answer', 'raise', 'cutoff', 'age', 'purely', 'round', 'number', 'full', 'years', 'shorter', 'record', 'make', 'top', 'top', 'everyone', 'tell', 'maximum', 'list', 'size', 'set', 'threshold', 'sure', 'whether', 'notable', 'enough', 'mentioned', 'article', 'right', 'versions', 'later', 'open', 'files', 'created', 'previous', 'versions', 'save', 'files', 'format', 'suffix', 'msx', 'version', 'number', 'intentional', 'course', 'besides', 'versions', 'save', 'files', 'compressed', 'format', 'balance', 'page', 'one', 'sentence', 'basic', 'definition', 'word', 'huge', 'amount', 'slangprofane', 'uses', 'perhaps', 'former', 'extended', 'information', 'female', 'dogs', 'available', 'beyond', 'name', 'encyclopaedia', 'dictionary', 'feel', 'whoever', 'looking', 'definition', 'appropiate', 'deleted', 'wikipediaimmediatly', 'word', 'used', 'often', 'also', 'mean', 'word', 'belive', 'majorly', 'true', 'much', 'okay', 'good', 'meaning', 'female', 'dog', 'bitch', 'also', 'stands', 'name', 'brittany', 'fellows—preceding', 'unsigned', 'comment', 'added', 'etymology', 'word', 'bitch', 'old', 'norse', 'bikkjuna', 'meaning', 'female', 'dog', 'unknown', 'origin', 'grimm', 'derives', 'old', 'norse', 'words', 'lapp', 'pittja', 'oed', 'notes', 'converse', 'equally', 'possible', 'adj', 'bitchy', 'first', 'seen', 'verb', 'meaning', 'complain', 'slang', 'bitchen', 'good', 'attested', 'reclaiming', 'word', 'bitch', 'word', 'bitch', 'actually', 'offencive', 'american', 'canadian', 'english', 'english', 'variants', 'bitch', 'maintains', 'correct', 'definition', 'female', 'canine', 'people', 'argued', 'bitch', 'different', 'used', 'insult', 'pig', 'dog', 'cow', 'others', 'considered', 'profane', 'bitch', 'far', 'concerned', 'nothing', 'reclaim', 'bitch', 'simply', 'means', 'female', 'canine', 'may', 'used', 'pejorative', 'descriptor', 'make', 'profanity', 'definately', 'say', 'something', 'kyle', 'vanderweilen', 'bitchin', 'particular', 'evidence', 'women', 'reclaiming', 'word', 'bitch', 'anyone', 'point', 'articles', 'etc', 'song', 'definitely', 'interesting', 'belongs', 'actually', 'reclaim', 'word', 'bitch', 'reclaims', 'word', 'sinner', 'also', 'really', 'understand', 'last', 'paragraph', 'sucks', 'going', 'try', 'clear', 'realized', 'know', 'means', 'someone', 'point', 'source', 'lays', 'argument', 'bitches', 'fertility', 'patriarchy', 'clearly', 'need', 'articles', 'definitely', 'enough', 'examples', 'even', 'outside', 'missy', 'elliot', 'cleary', 'repeatedly', 'reclaims', 'word', 'instance', 'bitch', 'references', 'fine', 'name', 'missy', 'elliot', 'got', 'find', 'quote', 'rolling', 'stone', 'review', 'mentioned', 'reclaiming', 'word', 'fact', 'one', 'knows', 'might', 'interesting', 'add', 'section', 'work', 'relates', 'womenslurs', 'generally', 'within', 'hiphop', 'relevant', 'reclamation', 'seems', 'poison', 'woman', 'use', 'epithet', 'still', 'strongly', 'connotes', 'despised', 'traits', 'see', 'using', 'word', 'connoting', 'querolous', 'spiteful', 'malicious', 'empowering', 'know', 'lifes', 'bitch', 'stems', 'reaction', 'prevalence', 'tagging', 'woman', 'adhere', 'certain', 'standard', 'femininity', 'bitch', 'use', 'literary', 'example', 'novel', 'handmaids', 'tale', 'narrator', 'related', 'feeling', 'whenever', 'outsmarted', 'man', 'could', 'almost', 'hear', 'calling', 'bitch', 'mind', 'even', 'husband', 'literary', 'reaction', 'recited', 'jealousy', 'men', 'names', 'men', 'outsmart', 'word', 'like', 'bitch', 'resort', 'greater', 'variety', 'pejoritive', 'epithets', 'though', 'specific', 'think', 'standard', 'femininity', 'referred', 'pretext', 'subordination', 'sexes', 'often', 'strive', 'impose', 'men', 'traditionally', 'power', 'popular', 'epithet', 'slang', 'connotations', 'bitch', 'diffuse', 'though', 'still', 'commonly', 'pernicious', 'think', 'bitch', 'chiefly', 'denunciation', 'punish', 'women', 'conform', 'standard', 'rather', 'contemptuous', 'word', 'often', 'used', 'however', 'still', 'see', 'point', 'reclamati', 'convinced', 'blind', 'documented', 'possible', 'would', 'call', 'legally', 'blind', 'great', 'vision', 'name', 'blind', 'blake', 'exaggerated', 'moniker', 'although', 'proof', 'got', 'feeling', 'legally', 'blind', 'likely', 'totally', 'blind', 'course', 'got', 'evidence', 'back', 'thing', 'ref', 'ponzi', 'scheme', 'padillah', 'opinion', 'trying', 'impose', 'although', 'may', 'appear', 'highlighting', 'fact', 'remains', 'controversial', 'whether', 'ponzi', 'scheme', 'even', 'legal', 'one', 'can', 'not', 'state', 'fact', 'ponzi', 'scheme', 'saw', 'reference', 'perpetrator', 'can', 'not', 'treated', 'reliable', 'source', 'fact', 'claiming', 'ponzi', 'scheme', 'seems', 'opinion', 'point', 'claim', 'made', 'either', 'way', 'edit', 'question', 'accomplishes', 'thank', 'virat', 'september', 'truce', 'according', 'several', 'news', 'sources', 'truce', 'reached', 'minsk', 'last', 'night', 'would', 'never', 'think', 'would', 'need', 'say', 'wikipedia', 'fansite', 'discussion', 'board', 'anything', 'unannounced', 'authority', 'might', 'well', 'false', 'mmorpgs', 'overrated', 'article', 'government', 'position', 'reaction', 'add', 'positions', 'kosovo', 'declaration', 'independence', 'foreign', 'relations', 'kosovo', 'draculas', 'grandmother', 'draculas', 'grandmother', 'bulgarian', 'princess', 'sister', 'ivan', 'sratzimir', 'links', 'lands', 'across', 'danube', 'remain', 'largely', 'unexamined', 'would', 'appreciate', 'serious', 'contributions', 'kaloyan', 'agree', 'billfruge', 'author', 'describes', 'unverifiable', 'nature', 'two', 'competing', 'etymology', 'theories', 'sufficiently', 'well', 'mislead', 'reader', 'renders', 'opinion', 'two', 'likely', 'clear', 'authors', 'opinion', 'presents', 'reader', 'opportunity', 'accept', 'either', 'neither', 'two', 'work', 'magic', 'wondring', 'time', 'help', 'wikipediafeatured', 'article', 'candidatesw', 'boisarchive', 'input', 'would', 'appreciated', 'quick', 'scan', 'full', 'review', 'noticed', 'work', 'respect', 'skills', 'thanks', 'four', 'references', 'including', 'britannica', 'giving', 'correct', 'date', 'getting', 'silly', 'complain', 'edit', 'summary', 'can', 'not', 'find', 'added', 'quotes', 'two', 'help', 'wpsourceaccess', 'happy', 'concede', 'britannica', 'alone', 'mentions', 'date', 'offer', 'without', 'explaining', 'context', 'one', 'sources', 'expanded', 'quote', 'specifically', 'mentioning', 'august', 'russian', 'wikipedia', 'августа', 'силы', 'танкового', 'корпуса', 'армии', 'паулюса', 'вышли', 'волге', 'севернее', 'сталинграда', 'august', 'forces', 'tank', 'corps', 'army', 'paulus', 'reached', 'volga', 'north', 'stalingrad', 'cited', 'war', 'diary', 'colonelgeneral', 'franz', 'haider', 'use', 'assisted', 'suicide', 'refer', 'aid', 'dying', 'inaccurate', 'fourth', 'distinctive', 'ways', 'first', 'coined', 'catholic', 'activists', 'disputing', 'oregons', 'measure', 'carries', 'political', 'bias', 'second', 'laws', 'oregon', 'washington', 'vermont', 'contain', 'term', 'assisted', 'suicide', 'use', 'aid', 'dying', 'third', 'assisting', 'suicide', 'remains', 'illegal', 'three', 'states', 'also', 'montana', 'new', 'mexico', 'state', 'attorney', 'general', 'county', 'district', 'attorney', 'charged', 'physician', 'pharmacist', 'acted', 'within', 'aid', 'dying', 'laws', 'three', 'states', 'finally', 'describing', 'people', 'use', 'aid', 'dying', 'brittany', 'maynard', 'suicides', 'grossly', 'misrepresents', 'experience', 'devalues', 'lives', 'deaths', 'continued', 'usage', 'biased', 'inaccurate', 'term', 'amended', 'throughout', 'wikipedia', 'may', 'please', 'stop', 'continue', 'delete', 'edit', 'legitimate', 'talk', 'page', 'comments', 'talkdeepwater', 'horizon', 'oil', 'spill', 'may', 'blocked', 'vandalism', 'shared', 'address', 'make', 'edit', 'consider', 'creating', 'account', 'avoid', 'irrelevant', 'notices', 'brandonyusoftoropov', 'requested', 'mediation', 'conflict', 'requested', 'mediation', 'conflict', 'willing', 'mediate', 'dispute', 'accept', 'please', 'end', 'email', 'pgunnorg', 'ridiculous', 'unless', 'good', 'nondisingenuous', 'response', 'would', 'absolutely', 'agree', 'blocking', 'indef', 'outright', 'falsifying', 'sources', 'simply', 'never', 'tolerated', 'wrote', 'need', 'cite', 'reliable', 'sources', 'assertions', 'far', 'large', 'chemical', 'endothermic', 'storage', 'events', 'think', 'source', 'conclusively', 'estabish', 'either', 'point', 'easy', 'establish', 'points', 'hundreds', 'papers', 'proof', 'limits', 'chemical', 'storage', 'electron', 'bonds', 'well', 'understood', 'energy', 'dense', 'chemicals', 'gasoline', 'store', 'per', 'atom', 'cold', 'fusion', 'reactions', 'often', 'produced', 'far', 'ranging', 'per', 'atom', 'material', 'cell', 'cases', 'chemical', 'fuel', 'reaction', 'chemical', 'ash', 'finishes', 'cell', 'grams', 'inert', 'material', 'produced', 'hundreds', 'megajoules', 'heat', 'much', 'several', 'kilograms', 'gasoline', 'burn', 'cell', 'contents', 'would', 'produce', 'tiny', 'fraction', 'heat', 'fact', 'could', 'burn', 'cell', 'table', 'books', 'room', 'still', 'get', 'much', 'chemical', 'energy', 'therefore', 'chemistry', 'ruled', 'calorimeter', 'measure', 'endothermic', 'event', 'accurately', 'measures', 'exothermic', 'event', 'example', 'calorimeters', 'used', 'studies', 'show', 'endothermic', 'formation', 'pdd', 'beginning', 'experiment', 'since', 'calorimeters', 'shows', 'exothermic', 'excess', 'heat', 'would', 'also', 'show', 'endothermic', 'storage', 'proceeds', 'never', 'done', 'heat', 'balance', 'always', 'zero', 'heat', 'bursts', 'jed', 'rothwell', 'useful', 'information', 'someone', 'keeps', 'erasing', 'please', 'note', 'cal', 'tech', 'lewis', 'false', 'negative', 'pointed', 'noninski', 'miles', 'fleischmann', 'described', 'several', 'papers', 'example', 'one', 'also', 'name', 'julian', 'schwinger', 'see', 'jed', 'rothwell', 'librarian', 'lenrcanrorg', 'thanks', 'comment', 'wikidefenderness', 'like', 'one', 'usually', 'wikiling', 'wikidefender', 'agree', 'first', 'somewhat', 'innocent', 'doubts', 'really', 'agressive', 'whole', 'matter', 'might', 'intention', 'recent', 'edit', 'removed', 'content', 'please', 'careful', 'remove', 'content', 'wikipedia', 'without', 'valid', 'reason', 'specify', 'edit', 'summary', 'articles', 'talk', 'page', 'take', 'look', 'welcome', 'page', 'learn', 'contributing', 'encyclopedia', 'thank', 'link', 'edit', 'reverted', 'found', 'link', 'believe', 'edit', 'reverted', 'please', 'contact', 'suggestions', 'agree', 'issue', 'queston', 'everyday', 'english', 'first', 'amendent', 'refer', 'primarily', 'constitution', 'ambiguous', 'belief', 'remains', 'even', 'fifth', 'amendment', 'ambiguous', 'first', 'amendment', 'even', 'main', 'towns', 'main', 'know', 'love', 'write', 'one', 'sentence', 'article', 'want', 'please', 'least', 'properly', 'stop', 'saying', 'main', 'town', 'main', 'obscure', 'towns', 'halliday', 'good', 'see', 'another', 'contributor', 'article', 'sfl', 'thing', 'might', 'consider', 'joining', 'taskforce', 'thanks', 'stephen', 'barrett', 'board', 'certified', 'viewpoint', 'fact', 'well', 'documented', 'one', 'see', 'wpprominence', 'applies', 'could', 'precis', 'material', 'instead', 'downloading', 'whole', 'lot', 'stuff', 'somewhere', 'else', 'internet', 'one', 'editor', 'feel', 'material', 'provided', 'could', 'cut', 'fit', 'format', 'article', 'info', 'could', 'provided', 'seperate', 'wikipedia', 'article', 'necessary', 'cloud', 'feedback', 'cloud', 'feedback', 'positive', 'feedbacks', 'paper', 'states', 'ipcc', 'states', 'likely', 'positive', 'negative', 'feedback', 'change', 'avg', 'plenty', 'greeks', 'love', 'king', 'stop', 'acting', 'like', 'greeks', 'hate', 'parrot', 'government', 'tells', 'via', 'media', 'greeks', 'asked', 'george', 'king', 'supported', 'reclaimed', 'much', 'lands', 'voted', 'keep', 'numerous', 'times', 'vote', 'also', 'tried', 'overthrow', 'dictators', 'read', 'book', 'greek', 'government', 'biggest', 'liars', 'want', 'king', 'claim', 'constantinopleasia', 'minor', 'direct', 'descendant', 'five', 'greek', 'imperial', 'byzantine', 'dynasties', 'monomachos', 'comnenos', 'laskaris', 'angelos', 'paleologos', 'redirect', 'discussion', 'page', 'please', 'leave', 'article', 'related', 'discussion', 'please', 'articles', 'discussion', 'page', 'second', 'issue', 'thinking', 'need', 'taxonomy', 'section', 'things', 'really', 'clear', 'maybe', 'could', 'iswhat', 'specific', 'findings', 'fossils', 'places', 'narmadensis', 'subfamily', 'carnotaurinae', 'princely', 'lizard', 'narmada', 'significant', 'prowess', 'narmadensis', 'anything', 'precise', 'taxonomy', 'would', 'great', 'add', 'redirects', 'torein', 'torein', 'torein', 'torein', 'toreintorein', 'toreintorein', 'toreintorein', 'torein', 'torein', 'torein', 'torein', 'train', 'train', 'train', 'train', 'torein—torein', 'train—train', 'torein–torein', 'train–train', 'redirect', 'another', 'priceless', 'gem', 'demonstrating', 'general', 'cluelessness', 'fuse', 'rating', 'therefore', 'plug', 'rating', 'case', 'nonrewireable', 'plug', 'determined', 'cable', 'attached', 'appliance', 'used', 'earth', 'dig', 'nonsense', 'plenty', 'good', 'examples', 'around', 'medium', 'large', 'switch', 'mode', 'power', 'supplies', 'often', 'supplied', 'nominally', 'amp', 'cable', 'moulded', 'plug', 'many', 'iec', 'type', 'plug', 'rated', 'standard', 'amps', 'according', 'plug', 'therefore', 'fitted', 'amp', 'fuse', 'determined', 'cable', 'would', 'never', 'get', 'smallest', 'power', 'supplies', 'running', 'fit', 'amp', 'fuse', 'large', 'amp', 'momentary', 'inrush', 'current', 'lasts', 'long', 'enough', 'blow', 'amp', 'fuse', 'cable', 'plug', 'retain', 'original', 'ratings', 'inrush', 'current', 'harm', 'rating', 'fuse', 'determined', 'much', 'much', 'cable', 'size', 'alone', 'indeed', 'type', 'power', 'supply', 'built', 'plug', 'usually', 'fuse', 'bizarre', 'ani', 'medjools', 'abuse', 'wikipedia', 'rules', 'gets', 'rewarded', 'awards', 'barnstar', 'wtf', 'anyhow', 'new', 'person', 'adept', 'ridicule', 'joined', 'conversation', 'falafel', 'sigh', 'firstly', 'still', 'making', 'undiffable', 'edits', 'refusing', 'use', 'edit', 'summaries', 'becoming', 'behavioural', 'issue', 'need', 'escalated', 'stop', 'gun', 'really', 'understand', 'find', 'hard', 'follow', 'basic', 'standards', 'behaviour', 'required', 'edit', 'collaborative', 'environment', 'secondly', 'announcing', 'changes', 'someones', 'talk', 'page', 'really', 'count', 'discussing', 'collaboratively', 'rather', 'means', 'discussed', 'furthermore', 'told', 'npov', 'noticeboard', 'raise', 'state', 'university', 'university', 'issue', 'wanted', 'discuss', 'issue', 'failed', 'removed', 'disputed', 'tag', 'article', 'without', 'result', 'suggested', 'waiting', 'later', 'made', 'yet', 'another', 'diff', 'contained', 'large', 'number', 'unknown', 'unknowable', 'undisucssed', 'changes', 'article', 'name', 'introductory', 'paragraph', 'always', 'told', 'using', 'phd', 'name', 'incorrect', 'phd', 'automatically', 'conferred', 'status', 'doctor', 'however', 'sure', 'case', 'since', 'wellknown', 'martin', 'luther', 'king', 'normal', 'approach', 'dropping', 'keeping', 'phd', 'seem', 'best', 'answer', 'even', 'though', 'one', 'style', 'guides', 'seem', 'endorse', 'would', 'someone', 'intimately', 'familliar', 'article', 'like', 'take', 'swing', 'changing', 'suggesting', 'alternative', 'mrpainkiller', 'neurophyte', 'jeanphilippe', 'complaint', 'intervention', 'vandalism', 'protected', 'article', 'vampirefreakscom', 'either', 'block', 'disruption', 'personal', 'attacks', 'unprotect', 'article', 'morning', 'meantime', 'please', 'consider', 'following', 'reverting', 'another', 'users', 'talk', 'page', 'pretty', 'rude', 'policy', 'conflict', 'user', 'talk', 'page', 'policy', 'says', 'users', 'blank', 'archive', 'warnings', 'although', 'archiving', 'preferred', 'community', 'vandalism', 'policy', 'says', 'removing', 'warnings', 'given', 'vandalism', 'agree', 'vandalism', 'point', 'view', 'seen', 'lot', 'support', 'lately', 'except', 'among', 'people', 'fighting', 'amongst', 'reasons', 'someone', 'deletes', 'warning', 'obviously', 'seen', 'concerned', 'someones', 'edits', 'use', 'verbose', 'edit', 'summary', 'even', 'warning', 'removed', 'edit', 'summary', 'visible', 'understand', 'view', 'among', 'two', 'mrpainkiller', 'edits', 'detrimental', 'article', 'lots', 'right', 'ways', 'deal', 'including', 'editing', 'consensus', 'request', 'comment', 'article', 'user', 'mediation', 'third', 'opinion', 'going', 'judge', 'content', 'fighting', 'wherever', 'occurs', 'wrong', 'way', 'deal', 'problem', 'personal', 'attacks', 'tolerated', 'please', 'deal', 'content', 'edits', 'character', 'leaving', 'message', 'keep', 'fighting', 'talk', 'pages', 'suppose', 'another', 'admin', 'eventually', 'figure', 'time', 'block', 'someone', 'unless', 'positive', 'right', 'guy', 'wrong', 'probably', 'try', 'work', 'peacefully', 'case', 'admins', 'see', 'things', 'way', 'irtgyrehgui', 'iryggoifhgo', 'oerygtjeiygut', 'gopfe', 'gig', 'fjhg', 'tyr', 'hygb', 'hruegfigust', 'retugrijtrir', 'jtgnkjryt', 'jgoidug', 'jgiufd', 'teurjg', 'etujoijfgiosdug', 'ojtg', 'reuyjurfi', 'ygoip', 'tgeoiu', 'ypw', 'urtg', 'hui', 'mftmuv', 'tny', 'uvg', 'ytihguihfdkjvhu', 'krngkfdjs', 'hgkjfghoeruygrhy', 'goh', 'black', 'mamba', 'itis', 'ponious', 'snake', 'word', 'kills', 'many', 'people', 'king', 'cobra', 'kills', 'many', 'people', 'india', 'looks', 'like', 'old', 'issue', 'took', 'liberty', 'removing', 'see', 'difference', 'nonspaced', 'version', 'spaced', 'version', 'spaced', 'version', 'makes', 'intro', 'look', 'strange', 'revamped', 'wpfart', 'thought', 'little', 'housekeeping', 'would', 'give', 'street', 'cred', 'trying', 'whinger', 'hand', 'waver', 'annoys', 'entire', 'section', 'devoted', 'left', 'right', 'politics', 'yet', 'nothing', 'similar', 'regarding', 'rest', 'world', 'bias', 'wikipedia', 'irritating', 'sometimes', 'though', 'internet', 'users', 'words', 'whiny', 'european', 'lazy', 'write', 'non', 'section', 'thats', 'easy', 'fix', 'start', 'writing', 'nonus', 'views', 'topics', 'creating', 'topics', 'getting', 'friends', 'help', 'something', 'created', 'users', 'called', 'biased', 'reflects', 'predominant', 'users', 'posting', 'thus', 'easily', 'remedied', 'also', 'easy', 'fix', 'throughout', 'wikipedia', 'see', 'entries', 'obviously', 'american', 'authors', 'concept', 'world', 'view', 'automatically', 'write', 'perspective', 'without', 'attempt', 'qualify', 'language', 'therefore', 'tends', 'happen', 'view', 'becomes', 'default', 'international', 'views', 'living', 'ghettoized', 'paragraphs', 'also', 'actually', 'kind', 'problem', 'wikipedia', 'around', 'first', 'place', 'popular', 'ideas', 'necessarily', 'correct', 'people', 'posting', 'information', 'corruptibility', 'whatever', 'organization', 'organization', 'people', 'change', 'entry', 'next', 'day', '—preceding', 'unsigned', 'comment', 'added', 'entire', 'dicussion', 'lends', 'great', 'deal', 'credibilty', 'idea', 'leftright', 'spectrum', 'poorly', 'represents', 'political', 'economic', 'views', 'seems', 'debate', 'equivalent', 'attempting', 'define', 'square', 'root', 'negative', 'real', 'numbers', 'disposal', 'painfully', 'obvious', 'politics', 'mulidimensional', 'hoped', 'describe', 'leftright', 'spectrum', 'used', 'leave', 'probably', 'short', 'article', '—preceding', 'unsigned', 'comment', 'added', 'better', 'chart', 'think', 'page', 'needs', 'metter', 'chart', 'like', 'one', 'edit', 'actually', 'think', 'article', 'fact', 'whole', 'political', 'movement', 'needs', 'better', 'definition', 'leftright', 'political', 'parties', 'can', 'not', 'adhere', 'single', 'category', 'including', 'revolutionnary', 'movements', 'farright', 'groups', 'described', 'somewhere', 'else', 'discussion', 'suggest', 'new', 'use', 'leftright', 'compass', 'political', 'compass', 'uses', 'square', 'system', 'two', 'axis', 'social', 'économic', 'accurate', 'know', 'political', 'ideas', 'tend', 'pretty', 'nearer', 'mussolini', 'gandhi', 'whatever', 'suggest', 'cube', 'axis', 'économic', 'social', 'politic', 'first', 'one', 'defines', 'market', 'system', 'political', 'group', 'second', 'defines', 'social', 'standing', 'political', 'group', 'welfare', 'people', 'welfare', 'checkscharity', 'privatepublic', 'schoolmedical', 'system', 'etc', 'thirds', 'one', 'basically', 'way', 'society', 'treats', 'people', 'rehabilitationpunishment', 'democracytotaliratism', 'include', 'soviet', 'communism', 'etc', 'think', '—preceding', 'unsigned', 'comment', 'added', 'interesting', 'book', 'came', 'across', 'book', 'left', 'right', 'global', 'politics', 'alain', 'noël', 'jeanphilippe', 'thérien', 'read', 'yet', 'seems', 'great', 'interest', 'removing', 'unneccessary', 'detail', 'removing', 'several', 'paragraphs', 'unhelpful', 'article', 'edmund', 'burke', 'terms', 'left', 'right', 'used', 'adam', 'smith', 'terms', 'left', 'dont', 'feed', 'troll', 'responding', 'taunting', 'exactly', 'wrong', 'way', 'respond', 'dont', 'feed', 'troll', 'remove', 'post', 'without', 'comment', 'anything', 'please', 'accept', 'apologies', 'interpreted', 'statement', 'find', 'quote', 'move', 'care', 'mean', 'thought', 'source', 'could', 'removed', 'instead', 'finding', 'quote', 'mistake']\n"
     ]
    }
   ],
   "source": [
    "flattened = []\n",
    "for sublist in tokenized_sents:\n",
    "    for val in sublist:\n",
    "        flattened.append(val)\n",
    "print(flattened)"
   ]
  },
  {
   "cell_type": "code",
   "execution_count": 267,
   "metadata": {},
   "outputs": [
    {
     "data": {
      "text/plain": [
       "4027"
      ]
     },
     "execution_count": 267,
     "metadata": {},
     "output_type": "execute_result"
    }
   ],
   "source": [
    "len(flattened)"
   ]
  },
  {
   "cell_type": "code",
   "execution_count": 268,
   "metadata": {},
   "outputs": [
    {
     "name": "stdout",
     "output_type": "stream",
     "text": [
      "['arabs', 'committing', 'genocide', 'iraq', 'protests', 'europe', 'may', 'also', 'burn', 'hell', 'dare', 'vandalize', 'page', 'hms', 'beagle', 'dont', 'demon', 'eek', 'shes', 'cute', 'earthy', 'kind', 'way', 'cant', 'sing', 'shit', 'though', 'thanks', 'giving', 'unhappy', 'memory', 'well', 'sucks', 'university', 'nicknameless', 'first', 'time', 'ncaa', 'history', 'happened', 'hate', 'america', 'going', 'bomb', 'cities', 'quezas', 'rain', 'moi', 'ego', 'mortified', 'could', 'say', 'thing', 'poor', 'old', 'mona', 'always', 'thiught', 'miserable', 'looking', 'woman', 'probably', 'hormonal', 'tenth', 'anniversary', 'new', 'york', 'times', 'columnist', 'paul', 'krugman', 'delivered', 'odious', 'piece', 'dribble', 'ever', 'attack', 'least', 'since', 'last', 'wrote', 'headline', 'quote', 'years', 'shame', 'end', 'directed', 'radical', 'islam', 'instead', 'targets', 'fake', 'heroes', 'claims', 'atrocity', 'hijacked', 'sick', 'word', 'given', 'actually', 'talking', 'real', 'hijackers', 'killed', 'americans', 'referring', 'people', 'like', 'george', 'bush', 'rudy', 'giuliani', 'thinks', 'capitalized', 'horrible', 'crimes', 'worst', 'part', 'column', 'creep', 'writes', 'allow', 'comments', 'post', 'obvious', 'reasons', 'reason', 'coward', 'mean', 'else', 'would', 'ban', 'responses', 'hes', 'yearold', 'boy', 'crankcalling', 'hang', 'even', 'hears', 'response', 'hearing', 'wickedness', 'watch', 'memorial', 'services', 'feel', 'sorrow', 'families', 'whose', 'grief', 'never', 'really', 'ends', 'lousy', 'emotional', 'reflection', 'usually', 'avoid', 'summarize', 'many', 'today', 'nine', 'words', 'bearded', 'bitter', 'buffoon', 'random', 'deletion', 'deleted', 'xanax', 'bars', 'fuck', 'mah', 'nigga', 'wit', 'good', 'links', 'section', 'drunk', 'made', 'gibson', 'believes', 'little', 'freak', 'nazi', 'father', 'hope', 'dies', 'lung', 'cancer', 'soon', 'warning', 'stop', 'gay', 'raped', 'ass', 'indefinitely', 'without', 'notice', 'maybe', 'one', 'days', 'cool', 'fucking', 'breeders', 'sex', 'true', 'truth', 'balls', 'official', 'status', 'principality', 'monaco', 'stupid', 'warm', 'musky', 'regards', 'serene', 'highness', 'prince', 'scruffy', 'coinpurse', 'show', 'whihc', 'cheap', 'copy', 'ragu', 'romeo', 'popular', 'auditions', 'gutter', 'willeys', 'male', 'willey', 'likley', 'lol', 'braindead', 'oroszka', 'syrian', 'government', 'sunni', 'including', 'lady', 'army', 'eagles', 'comment', 'every', 'action', 'undertake', 'somebody', 'thinking', 'trip', 'ani', 'productive', 'thoughts', 'cause', 'devil', 'evil', 'mind', 'penis', 'materialscientists', 'birth', 'place', 'cite', 'policies', 'wasting', 'policy', 'shall', 'strike', 'bastards', 'better', 'idea', 'complaint', 'goddamn', 'opinions', 'worthless', 'matters', 'guidelines', 'sources', 'give', 'pile', 'steaming', 'dogshit', 'manners', 'sounding', 'nonsense', 'bullshit', 'understanding', 'community', 'mores', 'whole', 'lot', 'ruder', 'opinion', 'jesus', 'christ', 'politetrolling', 'learn', 'rules', 'wikipedias', 'rulessimplecomplex', 'court', 'judge', 'look', 'motherfucker', 'put', 'boat', 'outro', 'mamma', 'rag', 'durag', 'ballistics', 'urethas', 'users', 'make', 'wikipedia', 'shithole', 'youre', 'fucker', 'get', 'life', 'want', 'earse', 'agoian', 'change', 'name', 'fuckboti', 'kill', 'cut', 'corpse', 'ill', 'chop', 'mama', 'daddy', 'baldheaded', 'granny', 'fat', 'need', 'map', 'around', 'relations', 'shamu', 'come', 'doit', 'doormatt', 'joke', 'funky', 'anoymous', 'bunch', 'cunts', 'scared', 'selves', 'world', 'wat', 'heck', 'wrong', 'next', 'fayetteville', 'arkansas', 'beating', 'crap', 'overall', 'aim', 'project', 'worth', 'putting', 'sometimes', 'personal', 'learning', 'involved', 'topic', 'research', 'worthwhile', 'goal', 'otherwise', 'wish', 'onerous', 'idiocy', 'painful', 'required', 'civil', 'fools', 'respect', 'omg', 'text', 'site', 'edit', 'lolololol', 'thinkone', 'night', 'lead', 'toyeah', 'shove', 'cock', 'inup', 'vigina', 'says', 'ruthiemackenzie', 'someone', 'edited', 'aka', 'know', 'shouldnt', 'typing', 'stuff', 'wiki', 'fun', 'bitch', 'makenzie', 'mother', 'year', 'daughter', 'slut', 'sexuall', 'intercoarse', 'getting', 'preety', 'late', 'think', 'bed', 'thank', 'goooooood', 'husband', 'comiing', 'sees', 'wouldnt', 'anyway', 'nothing', 'darn', 'actress', 'btw', 'self', 'obseesssed', 'whore', 'yeahhhhhhhhhh', 'baby', 'kids', 'till', 'married', 'turned', 'try', 'condom', 'unlike', 'mackenzie', 'roman', 'virgin', 'acturely', 'beutiful', 'thingwell', 'sexim', 'children', 'bull', 'nows', 'might', 'man', 'question', 'belive', 'exact', 'personthat', 'foolish', 'something', 'stretched', 'point', 'communicating', 'friends', 'side', 'earth', 'quite', 'pathetic', 'calton', 'inconsiderable', 'selfish', 'beast', 'angelique', 'carrington', 'tamara', 'harringtonfuck', 'asshole', 'ryan', 'boe', 'queer', 'big', 'bag', 'threatening', 'block', 'utterly', 'tiny', 'insignificant', 'anal', 'retentive', 'later', 'learned', 'dan', 'marino', 'kidnap', 'join', 'snowflake', 'missed', 'ped', 'origin', 'sagging', 'roots', 'human', 'stupidity', 'limits', 'ruined', 'moron', 'trash', 'unusable', 'revert', 'immeadeatly', 'dudeget', 'clue', 'goth', 'dressing', 'black', 'shitu', 'hail', 'satian', 'sort', 'emo', 'sit', 'room', 'day', 'staring', 'ceiling', 'wondering', 'anyone', 'care', 'fell', 'killing', 'instantlyi', 'knowemo', 'harm', 'cutting', 'etcwanting', 'diejust', 'seems', 'german', 'love', 'magazine', 'thats', 'great', 'rest', 'suggest', 'magazines', 'important', 'doesnt', 'expert', 'oxy', 'morons', 'almost', 'everyone', 'working', 'field', 'hacks', 'either', 'jerk', 'write', 'huge', 'banned', 'yet', 'homophobic', 'mexican', 'arsehole', 'created', 'released', 'pop', 'song', 'flood', 'edits', 'commenced', 'mtv', 'crowd', 'enjoys', 'vandalizing', 'keep', 'removed', 'frogs', 'caption', 'raumskulptur', 'translates', 'spacial', 'sculpture', 'take', 'snap', 'sign', 'campus', 'pink', 'bicycle', 'mounted', 'pole', 'nort', 'wtf', 'whoever', 'images', 'shot', 'dead', 'nice', 'backround', 'serious', 'seriously', 'purpose', 'flagging', 'article', 'serve', 'fag', 'ashamed', 'enjoying', 'picture', 'pedo', 'please', 'line', 'lebanon', 'operation', 'center', 'military', 'contingency', 'operations', 'fckin', 'hoee', 'done', 'bit', 'reading', 'turns', 'fact', 'idiot', 'azerbaijanis', 'proud', 'ramil', 'safarov', 'opportunity', 'circumstances', 'bastard', 'armenians', 'bitches', 'soldiers', 'insulting', 'azerbaijani', 'flag', 'gurgen', 'lay', 'soul', 'assholes', 'armenian', 'fascists', 'natinoalists', 'dicks', 'trying', 'two', 'girls', 'shitting', 'cup', 'eating', 'chocolate', 'djmasacre', 'sockpuppet', 'happens', 'much', 'finding', 'information', 'filled', 'garbage', 'yeah', 'right', 'dude', 'prove', 'damn', 'kurt', 'angle', 'shut', 'silly', 'episode', 'numbers', 'whenever', 'bussiness', 'god', 'season', 'episodes', 'regular', 'understand', 'tries', 'wont', 'play', 'together', 'swear', 'tell', 'administrator', 'possible', 'desperate', 'housewives', 'members', 'agree', 'sure', 'adam', 'highly', 'discussion', 'invariably', 'add', 'religion', 'kept', 'adding', 'samuel', 'beckett', 'infobox', 'bother', 'bringing', 'longdead', 'completely', 'nonexistent', 'influences', 'issue', 'flailing', 'making', 'fly', 'comparison', 'explicit', 'acknowledgement', 'entire', 'amos', 'personally', 'jewish', 'categories', 'type', 'institution', 'needed', 'case', 'three', 'levels', 'suny', 'schools', 'centers', 'doctoral', 'granting', 'institutions', 'state', 'colleges', 'clarify', 'binghamton', 'albany', 'stony', 'brook', 'totally', 'product', 'list', 'relevant', 'entry', 'already', 'proving', 'relevance', 'reader', 'possibility', 'read', 'subject', 'see', 'articles', 'revision', 'banning', 'throwing', 'needs', 'moment', 'noncricket', 'fan', 'arbitrary', 'continue', 'homosexuality', 'blocked', 'editing', 'energy', 'introduction', 'previously', 'said', 'passive', 'transport', 'use', 'relies', 'kinetic', 'substance', 'transported', 'causes', 'move', 'chance', 'cross', 'membrane', 'difference', 'active', 'uses', 'cells', 'atp', 'electrochemical', 'gradient', 'pump', 'across', 'short', 'stating', 'rok', 'sovereign', 'aknowledge', 'jews', 'race', 'mention', 'ethiopian', 'testing', 'proves', 'accept', 'converts', 'ollie', 'others', 'oldest', 'long', 'easy', 'answer', 'raise', 'cutoff', 'age', 'purely', 'round', 'number', 'full', 'shorter', 'record', 'top', 'maximum', 'size', 'set', 'threshold', 'whether', 'notable', 'enough', 'mentioned', 'versions', 'open', 'files', 'previous', 'save', 'format', 'suffix', 'msx', 'version', 'intentional', 'course', 'besides', 'compressed', 'balance', 'sentence', 'basic', 'definition', 'amount', 'slangprofane', 'perhaps', 'former', 'extended', 'female', 'dogs', 'available', 'beyond', 'encyclopaedia', 'dictionary', 'appropiate', 'wikipediaimmediatly', 'used', 'often', 'majorly', 'okay', 'meaning', 'dog', 'stands', 'brittany', 'fellows—preceding', 'unsigned', 'added', 'etymology', 'norse', 'bikkjuna', 'unknown', 'grimm', 'derives', 'lapp', 'pittja', 'oed', 'notes', 'converse', 'equally', 'adj', 'bitchy', 'seen', 'verb', 'complain', 'slang', 'bitchen', 'attested', 'reclaiming', 'offencive', 'american', 'canadian', 'english', 'variants', 'maintains', 'correct', 'canine', 'argued', 'different', 'insult', 'pig', 'cow', 'considered', 'profane', 'far', 'concerned', 'reclaim', 'simply', 'means', 'pejorative', 'descriptor', 'profanity', 'definately', 'kyle', 'vanderweilen', 'bitchin', 'particular', 'evidence', 'women', 'etc', 'definitely', 'interesting', 'belongs', 'reclaims', 'sinner', 'paragraph', 'clear', 'realized', 'source', 'lays', 'argument', 'fertility', 'patriarchy', 'clearly', 'examples', 'outside', 'missy', 'elliot', 'cleary', 'repeatedly', 'instance', 'references', 'fine', 'got', 'find', 'rolling', 'stone', 'review', 'knows', 'work', 'relates', 'womenslurs', 'generally', 'within', 'hiphop', 'reclamation', 'poison', 'epithet', 'still', 'strongly', 'connotes', 'despised', 'traits', 'using', 'connoting', 'querolous', 'spiteful', 'malicious', 'empowering', 'lifes', 'stems', 'reaction', 'prevalence', 'tagging', 'adhere', 'certain', 'standard', 'femininity', 'literary', 'example', 'novel', 'handmaids', 'tale', 'narrator', 'related', 'feeling', 'outsmarted', 'hear', 'calling', 'recited', 'jealousy', 'men', 'names', 'outsmart', 'resort', 'greater', 'variety', 'pejoritive', 'epithets', 'specific', 'referred', 'pretext', 'subordination', 'sexes', 'strive', 'impose', 'traditionally', 'power', 'connotations', 'diffuse', 'commonly', 'pernicious', 'chiefly', 'denunciation', 'punish', 'conform', 'rather', 'contemptuous', 'however', 'reclamati', 'convinced', 'blind', 'documented', 'call', 'legally', 'vision', 'blake', 'exaggerated', 'moniker', 'although', 'proof', 'likely', 'back', 'ref', 'ponzi', 'scheme', 'padillah', 'appear', 'highlighting', 'remains', 'controversial', 'legal', 'can', 'not', 'saw', 'reference', 'perpetrator', 'treated', 'reliable', 'claiming', 'claim', 'accomplishes', 'virat', 'september', 'truce', 'according', 'several', 'news', 'reached', 'minsk', 'fansite', 'board', 'anything', 'unannounced', 'authority', 'false', 'mmorpgs', 'overrated', 'position', 'positions', 'kosovo', 'declaration', 'independence', 'foreign', 'draculas', 'grandmother', 'bulgarian', 'princess', 'sister', 'ivan', 'sratzimir', 'lands', 'danube', 'remain', 'largely', 'unexamined', 'appreciate', 'contributions', 'kaloyan', 'billfruge', 'author', 'describes', 'unverifiable', 'nature', 'competing', 'theories', 'sufficiently', 'mislead', 'renders', 'authors', 'presents', 'neither', 'magic', 'wondring', 'help', 'wikipediafeatured', 'candidatesw', 'boisarchive', 'input', 'appreciated', 'quick', 'scan', 'noticed', 'skills', 'four', 'britannica', 'date', 'summary', 'quotes', 'wpsourceaccess', 'happy', 'concede', 'alone', 'mentions', 'offer', 'explaining', 'context', 'expanded', 'specifically', 'mentioning', 'august', 'russian', 'августа', 'силы', 'танкового', 'корпуса', 'армии', 'паулюса', 'вышли', 'волге', 'севернее', 'сталинграда', 'forces', 'tank', 'corps', 'paulus', 'volga', 'north', 'stalingrad', 'cited', 'war', 'diary', 'colonelgeneral', 'franz', 'haider', 'assisted', 'suicide', 'refer', 'aid', 'dying', 'inaccurate', 'fourth', 'distinctive', 'ways', 'coined', 'catholic', 'activists', 'disputing', 'oregons', 'measure', 'carries', 'political', 'bias', 'second', 'laws', 'oregon', 'washington', 'vermont', 'contain', 'term', 'third', 'assisting', 'illegal', 'states', 'montana', 'mexico', 'attorney', 'general', 'county', 'district', 'charged', 'physician', 'pharmacist', 'acted', 'finally', 'describing', 'maynard', 'suicides', 'grossly', 'misrepresents', 'experience', 'devalues', 'lives', 'deaths', 'continued', 'usage', 'biased', 'amended', 'throughout', 'delete', 'legitimate', 'talk', 'talkdeepwater', 'horizon', 'oil', 'spill', 'vandalism', 'shared', 'address', 'consider', 'creating', 'account', 'irrelevant', 'notices', 'brandonyusoftoropov', 'requested', 'mediation', 'conflict', 'willing', 'mediate', 'dispute', 'email', 'pgunnorg', 'ridiculous', 'unless', 'nondisingenuous', 'absolutely', 'blocking', 'indef', 'outright', 'falsifying', 'tolerated', 'assertions', 'large', 'chemical', 'endothermic', 'storage', 'events', 'conclusively', 'estabish', 'establish', 'points', 'hundreds', 'papers', 'electron', 'bonds', 'understood', 'dense', 'chemicals', 'gasoline', 'store', 'per', 'atom', 'cold', 'fusion', 'reactions', 'produced', 'ranging', 'material', 'cell', 'cases', 'fuel', 'ash', 'finishes', 'grams', 'inert', 'megajoules', 'heat', 'kilograms', 'contents', 'produce', 'fraction', 'table', 'books', 'therefore', 'chemistry', 'ruled', 'calorimeter', 'event', 'accurately', 'measures', 'exothermic', 'calorimeters', 'studies', 'formation', 'pdd', 'beginning', 'experiment', 'shows', 'excess', 'proceeds', 'zero', 'bursts', 'jed', 'rothwell', 'useful', 'keeps', 'erasing', 'note', 'cal', 'tech', 'lewis', 'negative', 'pointed', 'noninski', 'miles', 'fleischmann', 'described', 'julian', 'schwinger', 'librarian', 'lenrcanrorg', 'wikidefenderness', 'wikiling', 'wikidefender', 'somewhat', 'innocent', 'doubts', 'agressive', 'matter', 'intention', 'recent', 'content', 'careful', 'remove', 'valid', 'specify', 'welcome', 'contributing', 'encyclopedia', 'link', 'reverted', 'found', 'believe', 'contact', 'suggestions', 'queston', 'everyday', 'amendent', 'primarily', 'constitution', 'ambiguous', 'belief', 'fifth', 'amendment', 'main', 'towns', 'properly', 'saying', 'town', 'obscure', 'halliday', 'another', 'contributor', 'sfl', 'joining', 'taskforce', 'stephen', 'barrett', 'certified', 'viewpoint', 'wpprominence', 'applies', 'precis', 'downloading', 'somewhere', 'internet', 'editor', 'provided', 'fit', 'info', 'seperate', 'necessary', 'cloud', 'feedback', 'positive', 'feedbacks', 'paper', 'ipcc', 'avg', 'plenty', 'greeks', 'king', 'acting', 'parrot', 'tells', 'via', 'media', 'asked', 'supported', 'reclaimed', 'voted', 'numerous', 'vote', 'tried', 'overthrow', 'dictators', 'book', 'greek', 'biggest', 'liars', 'constantinopleasia', 'minor', 'direct', 'descendant', 'five', 'imperial', 'byzantine', 'dynasties', 'monomachos', 'comnenos', 'laskaris', 'angelos', 'paleologos', 'redirect', 'leave', 'taxonomy', 'things', 'iswhat', 'findings', 'fossils', 'places', 'narmadensis', 'subfamily', 'carnotaurinae', 'princely', 'lizard', 'narmada', 'significant', 'prowess', 'precise', 'redirects', 'torein', 'toreintorein', 'train', 'torein—torein', 'train—train', 'torein–torein', 'train–train', 'priceless', 'gem', 'demonstrating', 'cluelessness', 'fuse', 'rating', 'plug', 'nonrewireable', 'determined', 'cable', 'attached', 'appliance', 'dig', 'medium', 'switch', 'mode', 'supplies', 'supplied', 'nominally', 'amp', 'moulded', 'iec', 'rated', 'amps', 'fitted', 'smallest', 'running', 'momentary', 'inrush', 'current', 'lasts', 'blow', 'retain', 'original', 'ratings', 'indeed', 'supply', 'built', 'bizarre', 'medjools', 'abuse', 'gets', 'rewarded', 'awards', 'barnstar', 'anyhow', 'person', 'adept', 'ridicule', 'joined', 'conversation', 'falafel', 'sigh', 'firstly', 'undiffable', 'refusing', 'summaries', 'becoming', 'behavioural', 'escalated', 'gun', 'hard', 'follow', 'standards', 'behaviour', 'collaborative', 'environment', 'secondly', 'announcing', 'changes', 'someones', 'count', 'discussing', 'collaboratively', 'discussed', 'furthermore', 'told', 'npov', 'noticeboard', 'wanted', 'discuss', 'failed', 'disputed', 'tag', 'result', 'suggested', 'waiting', 'diff', 'contained', 'unknowable', 'undisucssed', 'introductory', 'phd', 'incorrect', 'automatically', 'conferred', 'doctor', 'wellknown', 'martin', 'luther', 'normal', 'approach', 'dropping', 'keeping', 'seem', 'best', 'style', 'guides', 'endorse', 'intimately', 'familliar', 'swing', 'changing', 'suggesting', 'alternative', 'mrpainkiller', 'neurophyte', 'jeanphilippe', 'intervention', 'protected', 'vampirefreakscom', 'disruption', 'attacks', 'unprotect', 'morning', 'meantime', 'following', 'reverting', 'pretty', 'rude', 'user', 'blank', 'archive', 'warnings', 'archiving', 'preferred', 'removing', 'view', 'support', 'lately', 'except', 'among', 'fighting', 'amongst', 'deletes', 'obviously', 'verbose', 'visible', 'detrimental', 'lots', 'deal', 'consensus', 'request', 'wherever', 'occurs', 'problem', 'character', 'leaving', 'message', 'pages', 'suppose', 'admin', 'eventually', 'figure', 'guy', 'peacefully', 'admins', 'irtgyrehgui', 'iryggoifhgo', 'oerygtjeiygut', 'gopfe', 'gig', 'fjhg', 'tyr', 'hygb', 'hruegfigust', 'retugrijtrir', 'jtgnkjryt', 'jgoidug', 'jgiufd', 'teurjg', 'etujoijfgiosdug', 'ojtg', 'reuyjurfi', 'ygoip', 'tgeoiu', 'ypw', 'urtg', 'hui', 'mftmuv', 'tny', 'uvg', 'ytihguihfdkjvhu', 'krngkfdjs', 'hgkjfghoeruygrhy', 'goh', 'mamba', 'itis', 'ponious', 'snake', 'kills', 'cobra', 'india', 'looks', 'took', 'liberty', 'nonspaced', 'spaced', 'makes', 'intro', 'strange', 'revamped', 'wpfart', 'thought', 'housekeeping', 'street', 'cred', 'whinger', 'hand', 'waver', 'annoys', 'devoted', 'left', 'politics', 'similar', 'regarding', 'irritating', 'whiny', 'european', 'lazy', 'non', 'fix', 'start', 'writing', 'nonus', 'views', 'topics', 'called', 'reflects', 'predominant', 'posting', 'thus', 'easily', 'remedied', 'entries', 'concept', 'perspective', 'attempt', 'qualify', 'language', 'tends', 'happen', 'becomes', 'default', 'international', 'living', 'ghettoized', 'paragraphs', 'ideas', 'necessarily', 'corruptibility', 'whatever', 'organization', '—preceding', 'dicussion', 'lends', 'credibilty', 'leftright', 'spectrum', 'poorly', 'represents', 'economic', 'debate', 'equivalent', 'attempting', 'define', 'square', 'root', 'disposal', 'painfully', 'mulidimensional', 'hoped', 'describe', 'chart', 'metter', 'movement', 'parties', 'single', 'category', 'revolutionnary', 'movements', 'farright', 'groups', 'compass', 'system', 'axis', 'social', 'économic', 'accurate', 'tend', 'nearer', 'mussolini', 'gandhi', 'cube', 'politic', 'defines', 'market', 'group', 'standing', 'welfare', 'checkscharity', 'privatepublic', 'schoolmedical', 'thirds', 'basically', 'society', 'treats', 'rehabilitationpunishment', 'democracytotaliratism', 'include', 'soviet', 'communism', 'came', 'global', 'alain', 'noël', 'thérien', 'interest', 'unneccessary', 'detail', 'unhelpful', 'edmund', 'burke', 'terms', 'smith', 'feed', 'troll', 'responding', 'taunting', 'exactly', 'respond', 'apologies', 'interpreted', 'statement', 'mistake']\n"
     ]
    }
   ],
   "source": [
    "Vocab=[]\n",
    "for item in flattened:\n",
    "    if not item in Vocab:\n",
    "        Vocab.append(item)\n",
    "print(Vocab)"
   ]
  },
  {
   "cell_type": "code",
   "execution_count": 269,
   "metadata": {},
   "outputs": [
    {
     "data": {
      "text/plain": [
       "1798"
      ]
     },
     "execution_count": 269,
     "metadata": {},
     "output_type": "execute_result"
    }
   ],
   "source": [
    "len(Vocab)"
   ]
  },
  {
   "cell_type": "code",
   "execution_count": 271,
   "metadata": {},
   "outputs": [],
   "source": [
    "with open(\"vocab5.txt\", \"w\") as file:\n",
    "    file.write(str(Vocab))\n",
    "\n",
    "#with open(\"vocab.txt\", \"r\") as file:\n",
    "    #data2 = eval(file.readline())"
   ]
  },
  {
   "cell_type": "code",
   "execution_count": null,
   "metadata": {},
   "outputs": [],
   "source": []
  }
 ],
 "metadata": {
  "kernelspec": {
   "display_name": "base",
   "language": "python",
   "name": "python3"
  },
  "language_info": {
   "codemirror_mode": {
    "name": "ipython",
    "version": 3
   },
   "file_extension": ".py",
   "mimetype": "text/x-python",
   "name": "python",
   "nbconvert_exporter": "python",
   "pygments_lexer": "ipython3",
   "version": "3.9.13"
  },
  "orig_nbformat": 4
 },
 "nbformat": 4,
 "nbformat_minor": 2
}
